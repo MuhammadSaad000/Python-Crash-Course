{
 "cells": [
  {
   "cell_type": "markdown",
   "id": "8e8f7ca4",
   "metadata": {},
   "source": [
    "\n",
    "# <center>Introduction to [PYTHON](\"https://www.python.org\")<center>"
   ]
  },
  {
   "cell_type": "code",
   "execution_count": 35,
   "id": "4fe3653e",
   "metadata": {},
   "outputs": [
    {
     "name": "stdout",
     "output_type": "stream",
     "text": [
      "Hello World in Python\n"
     ]
    }
   ],
   "source": [
    "print(\"Hello World in Python\")"
   ]
  },
  {
   "cell_type": "markdown",
   "id": "a3c6b05a",
   "metadata": {},
   "source": [
    "## Variables and Operators in Python"
   ]
  },
  {
   "cell_type": "code",
   "execution_count": 31,
   "id": "ece6ff19",
   "metadata": {},
   "outputs": [
    {
     "name": "stdout",
     "output_type": "stream",
     "text": [
      "Addition :   29\n",
      "Subtraction :   11\n",
      "Multiplication :   180\n",
      "Division :   2.2222222222222223\n",
      "Exponential :   12157665459056928801\n",
      "Floor Division :   0\n",
      "Modulus :  2\n",
      "a after increment  21\n",
      "b after decrement  5\n"
     ]
    }
   ],
   "source": [
    "a = 20 # no need to specify data types or let,var, const keyword before a variable name in python\n",
    "b = 9\n",
    "resAdd = a + b\n",
    "resSub = a - b\n",
    "resMul = a * b\n",
    "resDiv = a / b\n",
    "resPower = b ** a\n",
    "resFloorDiv = b // a\n",
    "resMod = a % b \n",
    "# use commas to concatenate two strings in python plus sign wont work \n",
    "print(\"Addition :  \", resAdd )\n",
    "print(\"Subtraction :  \", resSub )\n",
    "print(\"Multiplication :  \", resMul )\n",
    "print(\"Division :  \", resDiv )\n",
    "print(\"Exponential :  \", resPower )\n",
    "print(\"Floor Division :  \", resFloorDiv )\n",
    "print(\"Modulus : \", resMod )\n",
    "a += 1 # increment a by 1 \n",
    "b -= 4 #decrement b by 4\n",
    "print(\"a after increment \" , a)\n",
    "print(\"b after decrement \" , b)\n",
    "\n",
    "\n"
   ]
  },
  {
   "cell_type": "markdown",
   "id": "ae433728",
   "metadata": {},
   "source": [
    "## Assigning Multiple Values"
   ]
  },
  {
   "cell_type": "code",
   "execution_count": 14,
   "id": "b1376061",
   "metadata": {},
   "outputs": [
    {
     "name": "stdout",
     "output_type": "stream",
     "text": [
      "Value of a :  1000\n",
      "Value of b :  1000\n",
      "Ali\n",
      "20\n",
      "B+ve\n"
     ]
    }
   ],
   "source": [
    "# assigning single value to multiple variables\n",
    "a = b = 1000   #a and b b both are assigned value of 1000\n",
    "print(\"Value of a : \", a)\n",
    "print(\"Value of b : \", b)\n",
    "\n",
    "\n",
    "# assigning multiple values to multiple variables\n",
    "name , age , bloodGroup = \"Ali\" , 20, \"B+ve\"\n",
    "print(name)\n",
    "print(age)\n",
    "print(bloodGroup)\n"
   ]
  },
  {
   "cell_type": "markdown",
   "id": "30e2d2cf",
   "metadata": {},
   "source": [
    "## Global Variable"
   ]
  },
  {
   "cell_type": "code",
   "execution_count": 21,
   "id": "eae1b1af",
   "metadata": {},
   "outputs": [
    {
     "name": "stdout",
     "output_type": "stream",
     "text": [
      "awesome\n"
     ]
    }
   ],
   "source": [
    "# global variable is defined in Python using global keyword\n",
    "def myfunc():\n",
    "    global x\n",
    "    x = \"awesome\"\n",
    "    return x\n",
    "\n",
    "print(x)"
   ]
  },
  {
   "cell_type": "markdown",
   "id": "2879f4eb",
   "metadata": {},
   "source": [
    "\n",
    "## Data Types of variables "
   ]
  },
  {
   "cell_type": "code",
   "execution_count": 27,
   "id": "a9f6647f",
   "metadata": {},
   "outputs": [
    {
     "name": "stdout",
     "output_type": "stream",
     "text": [
      "<class 'str'>\n",
      "<class 'int'>\n",
      "<class 'float'>\n",
      "<class 'int'>\n"
     ]
    }
   ],
   "source": [
    "print(type(x))\n",
    "print(type(a))\n",
    "print(type(resDiv))\n",
    "print(type(resPower))"
   ]
  },
  {
   "cell_type": "markdown",
   "id": "d1592ac4",
   "metadata": {},
   "source": [
    "## Assigning specific data types to variables"
   ]
  },
  {
   "cell_type": "code",
   "execution_count": 34,
   "id": "bdb358ce",
   "metadata": {},
   "outputs": [
    {
     "name": "stdout",
     "output_type": "stream",
     "text": [
      "range(0, 5)\n",
      "<class 'int'>\n",
      "<class 'float'>\n",
      "<class 'str'>\n",
      "<class 'range'>\n"
     ]
    }
   ],
   "source": [
    "x = int(50)\n",
    "y = float(2.1)\n",
    "rollno = str(\"bsef19m001\")\n",
    "span = range(5) # range starts from 0 by default\n",
    "print(span)\n",
    "print(type(x))\n",
    "print(type(y))\n",
    "print(type(rollno))\n",
    "print(type(span))\n",
    "\n"
   ]
  },
  {
   "cell_type": "markdown",
   "id": "6d3af270",
   "metadata": {},
   "source": [
    "## Strings "
   ]
  },
  {
   "cell_type": "code",
   "execution_count": 45,
   "id": "5602e55f",
   "metadata": {},
   "outputs": [
    {
     "name": "stdout",
     "output_type": "stream",
     "text": [
      "Hello, World Hey there\n",
      " Python is \n",
      "my \n",
      "favorite \n",
      "programming language\n",
      "Hello, World\n"
     ]
    }
   ],
   "source": [
    "greet = \"Hello, World\"\n",
    "meet = \"Hey there\"\n",
    "greetMeet = greet + \" \" + meet # string concatenation\n",
    "print(greetMeet)\n",
    "\n",
    "#multiple lines string \n",
    "fvrt  = ''' Python is \n",
    "my \n",
    "favorite \n",
    "programming language'''\n",
    "meet = \"Hey \\n there \" # backslach n can also be used to separate content between lines\n",
    "print(fvrt)\n",
    " "
   ]
  },
  {
   "cell_type": "markdown",
   "id": "c7b3147a",
   "metadata": {},
   "source": [
    "\n",
    "## Slicing"
   ]
  },
  {
   "cell_type": "code",
   "execution_count": 79,
   "id": "9b6a9cac",
   "metadata": {},
   "outputs": [
    {
     "name": "stdout",
     "output_type": "stream",
     "text": [
      "12\n",
      "Hello, World\n",
      "ello, Wo\n",
      "Hell\n",
      "Hello, W\n",
      "llo, Wo\n",
      "Wor\n"
     ]
    }
   ],
   "source": [
    "# python strings are just like character arrays\n",
    "print(len(greet))\n",
    "print(greet[:]) # print the whole string\n",
    "print(greet[1:9]) # start from 2nd character till 8th character total characters printed(9-1=8 chars)\n",
    "print(greet[:4]) # print first : n charcters\n",
    "print(greet[:-4]) # exclude last : n characters\n",
    "print(greet[2:-3]) # from 2rd character print till (len(str)-4) characters -- total characters printed(len(str)-s-e  chars)\n",
    "print(greet[-5:-2]) # start from -3 index and end at -5 index(inclusive)\n"
   ]
  },
  {
   "cell_type": "markdown",
   "id": "01e69348",
   "metadata": {},
   "source": [
    "## String Modification"
   ]
  },
  {
   "cell_type": "code",
   "execution_count": 83,
   "id": "d3149d72",
   "metadata": {},
   "outputs": [
    {
     "name": "stdout",
     "output_type": "stream",
     "text": [
      "HELLO, WORLD\n",
      "hello, world\n",
      "Hellx, Wxrld\n",
      "['Hello', ' World']\n",
      "Hello, World\n"
     ]
    }
   ],
   "source": [
    "print(greet.upper()) # convert the string to uppercase \n",
    "print(greet.lower()) # convert the string to lowercase\n",
    "print(greet.replace('o','x')) # replace o by x\n",
    "print(greet.split(\",\"))\n",
    "print(greet.strip()) # remove before and after whitespaces"
   ]
  },
  {
   "cell_type": "markdown",
   "id": "0d886217",
   "metadata": {},
   "source": [
    "\n",
    "## String Formatting\n"
   ]
  },
  {
   "cell_type": "code",
   "execution_count": 88,
   "id": "12eaea6d",
   "metadata": {},
   "outputs": [
    {
     "data": {
      "text/plain": [
       "'I bought 3 pairs of black shoes each of price 50.4 dollars.'"
      ]
     },
     "execution_count": 88,
     "metadata": {},
     "output_type": "execute_result"
    }
   ],
   "source": [
    "qty = 3\n",
    "color = \"black\"\n",
    "price = 50.4\n",
    "\n",
    "stmt = \"I bought {} pairs of {} shoes each of price {} dollars.\"\n",
    "stmt.format(qty,color,price)\n",
    "# specify the position of argument otherwise\n",
    "stmt = \"I bought {0} pairs of {1} shoes each of price {2} dollars.\"\n",
    "stmt.format(qty,color,price)\n"
   ]
  },
  {
   "cell_type": "markdown",
   "id": "b6ecfd28",
   "metadata": {},
   "source": [
    "## Booleans in Python"
   ]
  },
  {
   "cell_type": "code",
   "execution_count": 103,
   "id": "38e9a147",
   "metadata": {},
   "outputs": [
    {
     "name": "stdout",
     "output_type": "stream",
     "text": [
      "True\n",
      "True\n",
      "False\n",
      "False\n",
      "True\n",
      "True\n",
      "False\n",
      "False\n"
     ]
    }
   ],
   "source": [
    "print(10 > 4)\n",
    "print(\"a\" < \"m\" or 21 < 12) # comparing for ascii values\n",
    "print(10 < 30 and 20 < 2)\n",
    "print(\"a\" == 96)\n",
    "print(11 != 121/10)\n",
    "\n",
    "# bool will return false when (), [], {}, \"\", the number 0, and the value None are passed.\n",
    "print(bool(12))\n",
    "print(bool([]))\n",
    "print(bool(0))"
   ]
  },
  {
   "cell_type": "markdown",
   "id": "9a2a3ccb",
   "metadata": {},
   "source": [
    "## Other Operators in Python"
   ]
  },
  {
   "cell_type": "code",
   "execution_count": 115,
   "id": "d24ae73a",
   "metadata": {},
   "outputs": [
    {
     "name": "stdout",
     "output_type": "stream",
     "text": [
      "True\n",
      "True\n",
      "True\n",
      "True\n"
     ]
    }
   ],
   "source": [
    "# Identity Operator\n",
    "pX = 20 \n",
    "pY = 20\n",
    "pF = \"String\"\n",
    "print(pX is pY) # it compares not only for values on both sides but also for data types\n",
    "print(pX is not pF)\n",
    "\n",
    "\n",
    "# membership operator \n",
    "print(\"a\" in \"asteriak\")  \n",
    "print(\"f\" not in \"False\") # character f is not part of False string"
   ]
  },
  {
   "cell_type": "markdown",
   "id": "7fb4d306",
   "metadata": {},
   "source": [
    "## Conditionals in Python"
   ]
  },
  {
   "cell_type": "code",
   "execution_count": 118,
   "id": "8e3945bf",
   "metadata": {},
   "outputs": [
    {
     "name": "stdout",
     "output_type": "stream",
     "text": [
      "pX and pY are equal\n"
     ]
    }
   ],
   "source": [
    "if pX > pY:\n",
    "    pX = pY\n",
    "    print(\"pX and pY are made equal\")\n",
    "elif pX == pY:\n",
    "    print(\"pX and pY are equal\")\n",
    "else:\n",
    "    print(\"none of these should be equal\")"
   ]
  },
  {
   "cell_type": "code",
   "execution_count": null,
   "id": "3414f467",
   "metadata": {},
   "outputs": [],
   "source": []
  }
 ],
 "metadata": {
  "kernelspec": {
   "display_name": "Python 3 (ipykernel)",
   "language": "python",
   "name": "python3"
  },
  "language_info": {
   "codemirror_mode": {
    "name": "ipython",
    "version": 3
   },
   "file_extension": ".py",
   "mimetype": "text/x-python",
   "name": "python",
   "nbconvert_exporter": "python",
   "pygments_lexer": "ipython3",
   "version": "3.9.12"
  }
 },
 "nbformat": 4,
 "nbformat_minor": 5
}
