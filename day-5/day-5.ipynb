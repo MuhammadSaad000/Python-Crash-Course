{
 "cells": [
  {
   "cell_type": "markdown",
   "id": "267823bc",
   "metadata": {},
   "source": [
    "# <center>Day-5 "
   ]
  },
  {
   "cell_type": "markdown",
   "id": "a962f990",
   "metadata": {},
   "source": [
    "## JSON Module in Python"
   ]
  },
  {
   "cell_type": "markdown",
   "id": "94cade76",
   "metadata": {},
   "source": [
    "### Encoding Data in JSON"
   ]
  },
  {
   "cell_type": "code",
   "execution_count": 13,
   "id": "6eb87fef",
   "metadata": {},
   "outputs": [
    {
     "name": "stdout",
     "output_type": "stream",
     "text": [
      "{\n",
      "    \"name\": \"Ali\",\n",
      "    \"age\": 30,\n",
      "    \"city\": \"Lahore\",\n",
      "    \"isMarried\": false,\n",
      "    \"titles\": [\n",
      "        \"Engineer\",\n",
      "        \"Soldier\"\n",
      "    ]\n",
      "}\n",
      "<class 'str'>\n"
     ]
    }
   ],
   "source": [
    "import json\n",
    "\n",
    "# creating a person dictionary\n",
    "person = {\n",
    "    \"name\" : \"Ali\",\n",
    "    \"age\" : 30,\n",
    "    \"city\" : \"Lahore\",\n",
    "    \"isMarried\" : False,\n",
    "    \"titles\" : [\"Engineer\", \"Soldier\"]\n",
    "}\n",
    "\n",
    "# dictionary to json object \n",
    "personJson = json.dumps(person, indent = 4) \n",
    "# print(personJson) \n",
    "print(type(personJson)) # JSON string"
   ]
  },
  {
   "cell_type": "markdown",
   "id": "36f29829",
   "metadata": {},
   "source": [
    "### Writing JSON data to file"
   ]
  },
  {
   "cell_type": "code",
   "execution_count": 5,
   "id": "a28d6f5f",
   "metadata": {},
   "outputs": [],
   "source": [
    "with open(\"person.json\",\"w\") as f:\n",
    "    json.dump(person, f, indent = 4)"
   ]
  },
  {
   "cell_type": "markdown",
   "id": "2c724ac8",
   "metadata": {},
   "source": [
    "### Decoding from JSON format to Dictionary"
   ]
  },
  {
   "cell_type": "code",
   "execution_count": 12,
   "id": "ff48c16d",
   "metadata": {},
   "outputs": [
    {
     "name": "stdout",
     "output_type": "stream",
     "text": [
      "{'name': 'Ali', 'age': 30, 'city': 'Lahore', 'isMarried': False, 'titles': ['Engineer', 'Soldier']}\n",
      "<class 'dict'>\n"
     ]
    }
   ],
   "source": [
    "with open(\"person.json\", \"r\") as f:\n",
    "    person = json.load(f)\n",
    "    print(person)\n",
    "    \n",
    "print(type(person))"
   ]
  },
  {
   "cell_type": "markdown",
   "id": "b549a71d",
   "metadata": {},
   "source": [
    "### Encoding Function for a object"
   ]
  },
  {
   "cell_type": "code",
   "execution_count": 19,
   "id": "ff73bb4d",
   "metadata": {},
   "outputs": [
    {
     "name": "stdout",
     "output_type": "stream",
     "text": [
      "{\"name\": \"Hamid\", \"age\": 20}\n"
     ]
    }
   ],
   "source": [
    "class User:\n",
    "    def __init__(self,name,age):\n",
    "        self.name = name\n",
    "        self.age = age\n",
    "        \n",
    "user = User(\"Hamid\" , 20)\n",
    "\n",
    "# WRITING custom encoding function for serializing User object\n",
    "def encodeUser(obj):\n",
    "    if isinstance(obj, User):\n",
    "        return {\"name\":obj.name , \"age\":obj.age}\n",
    "    else:\n",
    "        raise TypeError(\"Object is not of user type\")\n",
    "     \n",
    "    \n",
    "userJson = json.dumps(user, default=encodeUser)\n",
    "print(userJson)\n",
    "    "
   ]
  },
  {
   "cell_type": "markdown",
   "id": "defa283d",
   "metadata": {},
   "source": [
    "# <center> Sqlite Databases with Python"
   ]
  },
  {
   "cell_type": "code",
   "execution_count": 1,
   "id": "1780db22",
   "metadata": {},
   "outputs": [],
   "source": [
    "import sqlite3"
   ]
  },
  {
   "cell_type": "markdown",
   "id": "41ca1b1d",
   "metadata": {},
   "source": [
    "### Connect to the database and create  a table"
   ]
  },
  {
   "cell_type": "code",
   "execution_count": 2,
   "id": "5638b89f",
   "metadata": {},
   "outputs": [
    {
     "data": {
      "text/plain": [
       "<sqlite3.Cursor at 0x17af7521960>"
      ]
     },
     "execution_count": 2,
     "metadata": {},
     "output_type": "execute_result"
    }
   ],
   "source": [
    "# connect to the database\n",
    "conn = sqlite3.connect(\"customer.db\")\n",
    "\n",
    "# create a cursor\n",
    "c = conn.cursor()\n",
    "\n",
    "# following 5 datatypes are supported by SQLite3\n",
    "# NULL, INTEGER, REAL, TEXT, BLOB\n",
    "\n",
    "# create a table\n",
    "c.execute(\"\"\"CREATE TABLE IF NOT EXISTS Customers(\n",
    "    first_name text, \n",
    "    last_name text,\n",
    "    email text)\n",
    "\"\"\")\n",
    "\n",
    "\n"
   ]
  },
  {
   "cell_type": "markdown",
   "id": "a095224d",
   "metadata": {},
   "source": [
    "### Insertion into the table"
   ]
  },
  {
   "cell_type": "code",
   "execution_count": 3,
   "id": "149050ca",
   "metadata": {},
   "outputs": [
    {
     "name": "stdout",
     "output_type": "stream",
     "text": [
      "Insertion successful\n",
      "Insertion multiple records successful\n"
     ]
    }
   ],
   "source": [
    "# insert a single row to database\n",
    "c.execute(\"INSERT INTO Customers VALUES('Ali','Raza','ali@gmail.com')\")\n",
    "\n",
    "print(\"Insertion successful\")\n",
    "\n",
    "#insert multiple rows\n",
    "customers_list = [('Ali','Hadi','hadi@gmail.com'),\n",
    "             ('Sheikh','Hamid', 'sheikh#@gmail.com'), \n",
    "             ('Raza', 'Rehman', 'raza@hotmail.com')]\n",
    "\n",
    "\n",
    "# insert many rows using execute many\n",
    "c.executemany(\"INSERT INTO Customers VALUES(?,?,?)\", customers_list)\n",
    "\n",
    "print(\"Insertion multiple records successful\")\n"
   ]
  },
  {
   "cell_type": "markdown",
   "id": "1254d962",
   "metadata": {},
   "source": [
    "\n",
    "###  Query the data from table"
   ]
  },
  {
   "cell_type": "code",
   "execution_count": 7,
   "id": "bae542cb",
   "metadata": {},
   "outputs": [
    {
     "name": "stdout",
     "output_type": "stream",
     "text": [
      "('Ali', 'Raza', 'ali@gmail.com')\n"
     ]
    }
   ],
   "source": [
    "c.execute(\"SELECT * FROM Customers\")\n",
    "print(c.fetchone()) # print only first row from the table\n"
   ]
  },
  {
   "cell_type": "code",
   "execution_count": 8,
   "id": "bdf23072",
   "metadata": {},
   "outputs": [
    {
     "name": "stdout",
     "output_type": "stream",
     "text": [
      "('Ali', 'Hadi', 'hadi@gmail.com')\n",
      "('Sheikh', 'Hamid', 'sheikh#@gmail.com')\n",
      "('Raza', 'Rehman', 'raza@hotmail.com')\n",
      "('Ali', 'Raza', 'ali@gmail.com')\n",
      "('Ali', 'Hadi', 'hadi@gmail.com')\n",
      "('Sheikh', 'Hamid', 'sheikh#@gmail.com')\n",
      "('Raza', 'Rehman', 'raza@hotmail.com')\n"
     ]
    }
   ],
   "source": [
    "# Fetch All Records from a database\n",
    "items = c.fetchall()\n",
    "for i in items:\n",
    "    print(i)"
   ]
  },
  {
   "cell_type": "markdown",
   "id": "395b26f8",
   "metadata": {},
   "source": [
    "### Primary Key From Database"
   ]
  },
  {
   "cell_type": "code",
   "execution_count": 12,
   "id": "6150b784",
   "metadata": {},
   "outputs": [
    {
     "name": "stdout",
     "output_type": "stream",
     "text": [
      "(1, 'Ali', 'Raza', 'ali@gmail.com')\n",
      "(2, 'Ali', 'Hadi', 'hadi@gmail.com')\n",
      "(3, 'Sheikh', 'Hamid', 'sheikh#@gmail.com')\n",
      "(4, 'Raza', 'Rehman', 'raza@hotmail.com')\n",
      "(5, 'Ali', 'Raza', 'ali@gmail.com')\n",
      "(6, 'Ali', 'Hadi', 'hadi@gmail.com')\n",
      "(7, 'Sheikh', 'Hamid', 'sheikh#@gmail.com')\n",
      "(8, 'Raza', 'Rehman', 'raza@hotmail.com')\n"
     ]
    }
   ],
   "source": [
    "c.execute(\"SELECT rowid,* FROM Customers\")\n",
    "items = c.fetchall()\n",
    "for i in items:\n",
    "    print(i)"
   ]
  },
  {
   "cell_type": "markdown",
   "id": "c75a557e",
   "metadata": {},
   "source": [
    "### Where Clause"
   ]
  },
  {
   "cell_type": "code",
   "execution_count": 21,
   "id": "954a225a",
   "metadata": {},
   "outputs": [],
   "source": [
    "c.execute(\"SELECT * FROM Customers WHERE first_name='Ali'\")\n",
    "items = c.fetchall()\n",
    "for i in items:\n",
    "    print(i)"
   ]
  },
  {
   "cell_type": "markdown",
   "id": "017ee9ab",
   "metadata": {},
   "source": [
    "### Update Clause"
   ]
  },
  {
   "cell_type": "code",
   "execution_count": 23,
   "id": "1308254a",
   "metadata": {},
   "outputs": [],
   "source": [
    "c.execute(\"UPDATE Customers SET first_name='Muhammad' WHERE first_name='Ali'\")\n",
    "items = c.fetchall()\n",
    "for i in items:\n",
    "    print(i)"
   ]
  },
  {
   "cell_type": "code",
   "execution_count": 26,
   "id": "f1bd6a11",
   "metadata": {},
   "outputs": [
    {
     "name": "stdout",
     "output_type": "stream",
     "text": [
      "(4, 'Raza', 'Rehman', 'raza@hotmail.com')\n",
      "(8, 'Raza', 'Rehman', 'raza@hotmail.com')\n",
      "(1, 'Muhammad', 'Raza', 'ali@gmail.com')\n",
      "(5, 'Muhammad', 'Raza', 'ali@gmail.com')\n",
      "(3, 'Sheikh', 'Hamid', 'sheikh#@gmail.com')\n",
      "(7, 'Sheikh', 'Hamid', 'sheikh#@gmail.com')\n",
      "(2, 'Muhammad', 'Hadi', 'hadi@gmail.com')\n",
      "(6, 'Muhammad', 'Hadi', 'hadi@gmail.com')\n"
     ]
    }
   ],
   "source": [
    "c.execute(\"SELECT rowid,* FROM Customers ORDER BY last_name desc\")\n",
    "items = c.fetchall()\n",
    "for i in items: \n",
    "    print(i)"
   ]
  },
  {
   "cell_type": "code",
   "execution_count": 48,
   "id": "d1b1d05c",
   "metadata": {},
   "outputs": [],
   "source": [
    "conn.commit()\n",
    "conn.close()"
   ]
  },
  {
   "cell_type": "code",
   "execution_count": 1,
   "id": "8fb6e558",
   "metadata": {},
   "outputs": [],
   "source": [
    "## Refer to StudentsDatabaseFunctions.ipynb for more clarity of above Database operations"
   ]
  },
  {
   "cell_type": "code",
   "execution_count": null,
   "id": "b4a08245",
   "metadata": {},
   "outputs": [],
   "source": []
  }
 ],
 "metadata": {
  "kernelspec": {
   "display_name": "Python 3 (ipykernel)",
   "language": "python",
   "name": "python3"
  },
  "language_info": {
   "codemirror_mode": {
    "name": "ipython",
    "version": 3
   },
   "file_extension": ".py",
   "mimetype": "text/x-python",
   "name": "python",
   "nbconvert_exporter": "python",
   "pygments_lexer": "ipython3",
   "version": "3.9.12"
  }
 },
 "nbformat": 4,
 "nbformat_minor": 5
}
