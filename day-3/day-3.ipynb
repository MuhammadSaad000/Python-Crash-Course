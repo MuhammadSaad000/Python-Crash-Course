{
 "cells": [
  {
   "cell_type": "markdown",
   "id": "d244fb28",
   "metadata": {},
   "source": [
    "# <center> Day-3 "
   ]
  },
  {
   "cell_type": "markdown",
   "id": "93ed7272",
   "metadata": {},
   "source": [
    "## Exception Handling"
   ]
  },
  {
   "cell_type": "code",
   "execution_count": 9,
   "id": "3e2acb3c",
   "metadata": {},
   "outputs": [
    {
     "name": "stdout",
     "output_type": "stream",
     "text": [
      "Division by zero\n"
     ]
    }
   ],
   "source": [
    "try:\n",
    "    a = 20\n",
    "    b = 0\n",
    "    print(a / b)\n",
    "except:\n",
    "    print(\"Division by zero\")"
   ]
  },
  {
   "cell_type": "code",
   "execution_count": 16,
   "id": "37c4c46d",
   "metadata": {},
   "outputs": [
    {
     "name": "stdout",
     "output_type": "stream",
     "text": [
      "Enter a numerator :12\n",
      "Enter denominator :2\n",
      "Resuklt of division is :  6.0\n"
     ]
    }
   ],
   "source": [
    "try:\n",
    "    num = int(input(\"Enter a numerator :\"))\n",
    "    den = int(input(\"Enter denominator :\"))\n",
    "    print(\"Resuklt of division is : \", num/den)\n",
    "except ZeroDivisionError:\n",
    "    print(\"Division by zero not possible\")\n",
    "except ValueError:\n",
    "    print(\"Enter only integer values\")"
   ]
  },
  {
   "cell_type": "markdown",
   "id": "eb1b9b12",
   "metadata": {},
   "source": [
    "### finally keyword\n"
   ]
  },
  {
   "cell_type": "code",
   "execution_count": 20,
   "id": "e053f3f6",
   "metadata": {},
   "outputs": [
    {
     "name": "stdout",
     "output_type": "stream",
     "text": [
      "y is not defined\n",
      "Jumped to the finally block\n"
     ]
    }
   ],
   "source": [
    "# finally will be executed whether error is raised or not\n",
    "# y = 10\n",
    "try:\n",
    "    print(y)\n",
    "except NameError:\n",
    "    print(\"y is not defined\")\n",
    "finally:\n",
    "    print(\"Jumped to the finally block\")\n"
   ]
  },
  {
   "cell_type": "markdown",
   "id": "71545b78",
   "metadata": {},
   "source": [
    "### try else"
   ]
  },
  {
   "cell_type": "code",
   "execution_count": 29,
   "id": "5f520108",
   "metadata": {},
   "outputs": [
    {
     "name": "stdout",
     "output_type": "stream",
     "text": [
      "No exception occured\n"
     ]
    }
   ],
   "source": [
    "# else will be executed if except will be executed\n",
    "try:\n",
    "    x = 1\n",
    "except:\n",
    "    \"Failed to set x\"\n",
    "else:\n",
    "    print(\"No exception occured\")\n"
   ]
  },
  {
   "cell_type": "code",
   "execution_count": 30,
   "id": "567fd610",
   "metadata": {},
   "outputs": [
    {
     "ename": "TypeError",
     "evalue": "x is not of type integer",
     "output_type": "error",
     "traceback": [
      "\u001b[1;31m---------------------------------------------------------------------------\u001b[0m",
      "\u001b[1;31mTypeError\u001b[0m                                 Traceback (most recent call last)",
      "Input \u001b[1;32mIn [30]\u001b[0m, in \u001b[0;36m<cell line: 1>\u001b[1;34m()\u001b[0m\n\u001b[0;32m      1\u001b[0m \u001b[38;5;28;01mif\u001b[39;00m \u001b[38;5;28mtype\u001b[39m(x) \u001b[38;5;129;01mis\u001b[39;00m \u001b[38;5;28mint\u001b[39m:\n\u001b[1;32m----> 2\u001b[0m     \u001b[38;5;28;01mraise\u001b[39;00m \u001b[38;5;167;01mTypeError\u001b[39;00m(\u001b[38;5;124m\"\u001b[39m\u001b[38;5;124mx is not of type integer\u001b[39m\u001b[38;5;124m\"\u001b[39m)\n",
      "\u001b[1;31mTypeError\u001b[0m: x is not of type integer"
     ]
    }
   ],
   "source": [
    "if type(x) is int:\n",
    "    raise TypeError(\"x is not of type integer\")"
   ]
  },
  {
   "cell_type": "markdown",
   "id": "ae0ddd06",
   "metadata": {},
   "source": [
    "## File Handling"
   ]
  },
  {
   "cell_type": "markdown",
   "id": "992372de",
   "metadata": {},
   "source": [
    "### Read/ Write from File"
   ]
  },
  {
   "cell_type": "code",
   "execution_count": 55,
   "id": "18b6b1c7",
   "metadata": {},
   "outputs": [
    {
     "name": "stdout",
     "output_type": "stream",
     "text": [
      "New line added to the file\n"
     ]
    }
   ],
   "source": [
    "# file will be created if file with specific filename doesnt exists\n",
    "f = open(\"file.js\" ,\"r\") # first parameter fileName and second is mode in which file to open\n",
    "print(f.read())\n",
    "\n",
    "# default file opening mode is \"rt\" read mode and assumed that it is text file\n",
    "\n",
    "# 1- open file 2- perform operations 3- Close file\n",
    "\n",
    "f = open(\"file.txt\" , \"w\")\n",
    "f.write(\"New line added to the file\")\n",
    "f.close() "
   ]
  },
  {
   "cell_type": "code",
   "execution_count": 56,
   "id": "a0e178e5",
   "metadata": {},
   "outputs": [],
   "source": [
    "f = open(\"file.txt\",\"a\")\n",
    "f.write(\"\\nAnother line added \")\n",
    "f.close()"
   ]
  },
  {
   "cell_type": "markdown",
   "id": "e6e7c4de",
   "metadata": {},
   "source": [
    "### Print a single line from a file"
   ]
  },
  {
   "cell_type": "code",
   "execution_count": 38,
   "id": "26585d5b",
   "metadata": {},
   "outputs": [
    {
     "name": "stdout",
     "output_type": "stream",
     "text": [
      "New line added to the file\n",
      "\n",
      "Another line added \n"
     ]
    }
   ],
   "source": [
    "f = open(\"file.txt\",\"r\")\n",
    "\n",
    "# print first line from file\n",
    "print(f.readline())\n",
    "\n",
    "f = f.readlines()\n",
    "print(f[1])"
   ]
  },
  {
   "cell_type": "code",
   "execution_count": 54,
   "id": "1a8299eb",
   "metadata": {},
   "outputs": [
    {
     "name": "stdout",
     "output_type": "stream",
     "text": [
      "New line added to the file\n",
      "New line added to the file\n",
      "Another line added \n",
      "This is the appended lineThis is the appended line\n",
      "New line added to the file\n",
      "New line added to the file\n",
      "Another line added \n",
      "This is the appended lineThis is the appended lineThis is the appended line\n"
     ]
    }
   ],
   "source": [
    "copiedData = \"\"\n",
    "\n",
    "f1 = open(\"file.txt\",\"r\")\n",
    "\n",
    "# f2 = open(\"newFile.txt\",\"x\")\n",
    "f2 = open(\"file.txt\",\"w\")\n",
    "\n",
    "for data in f1:\n",
    "    #print(data,end=\"\") # if end=\"\" not specified it will add the newline character\n",
    "    copiedData += data\n",
    "    f2.write(data)\n",
    "    \n",
    "f2 = open(\"newFile.txt\",\"r\")\n",
    "print(f2.read())\n"
   ]
  },
  {
   "cell_type": "markdown",
   "id": "08b870c3",
   "metadata": {},
   "source": [
    "### Append to a File\n"
   ]
  },
  {
   "cell_type": "code",
   "execution_count": 57,
   "id": "abb97745",
   "metadata": {},
   "outputs": [
    {
     "name": "stdout",
     "output_type": "stream",
     "text": [
      "New line added to the file\n",
      "New line added to the file\n",
      "Another line added \n",
      "This is the appended lineThis is the appended line\n"
     ]
    }
   ],
   "source": [
    "\n",
    "f2 = open(\"newFile.txt\", \"a\")\n",
    "f2.write(\"This is the appended line\")\n",
    "f2.close()\n",
    "\n",
    "f2 = open(\"newFile.txt\",\"r\")\n",
    "print(f2.read())\n",
    "f2.close()\n"
   ]
  },
  {
   "cell_type": "markdown",
   "id": "0707663d",
   "metadata": {},
   "source": [
    "### Delete a File"
   ]
  },
  {
   "cell_type": "code",
   "execution_count": 59,
   "id": "dbc717e9",
   "metadata": {},
   "outputs": [],
   "source": [
    "import os\n",
    "\n",
    "# check if file exists\n",
    "\n",
    "filePath = \"file.js\"\n",
    "if os.path.exists(filePath):\n",
    "    os.remove(filePath)\n",
    "else:\n",
    "    print(\"File not found\")"
   ]
  },
  {
   "cell_type": "code",
   "execution_count": null,
   "id": "4d8bb602",
   "metadata": {},
   "outputs": [],
   "source": []
  }
 ],
 "metadata": {
  "kernelspec": {
   "display_name": "Python 3 (ipykernel)",
   "language": "python",
   "name": "python3"
  },
  "language_info": {
   "codemirror_mode": {
    "name": "ipython",
    "version": 3
   },
   "file_extension": ".py",
   "mimetype": "text/x-python",
   "name": "python",
   "nbconvert_exporter": "python",
   "pygments_lexer": "ipython3",
   "version": "3.9.12"
  }
 },
 "nbformat": 4,
 "nbformat_minor": 5
}
