{
 "cells": [
  {
   "cell_type": "code",
   "execution_count": 1,
   "id": "3472286f",
   "metadata": {},
   "outputs": [],
   "source": [
    "import sqlite3"
   ]
  },
  {
   "cell_type": "code",
   "execution_count": 2,
   "id": "8367d8e0",
   "metadata": {},
   "outputs": [],
   "source": [
    "def createDb():\n",
    "    conn = sqlite3.connect(\"students.db\")\n",
    "    c = conn.cursor()\n",
    "    c.execute(\"\"\"CREATE TABLE IF NOT EXISTS students(\n",
    "        firstName text,\n",
    "        lastName text,\n",
    "        age integer,\n",
    "        rollNo text,\n",
    "        cgpa real,\n",
    "    )\"\"\")"
   ]
  },
  {
   "cell_type": "markdown",
   "id": "2a935498",
   "metadata": {},
   "source": [
    "### Get All Students from Database"
   ]
  },
  {
   "cell_type": "code",
   "execution_count": 3,
   "id": "29fe5a77",
   "metadata": {},
   "outputs": [],
   "source": [
    "def showAll():\n",
    "    conn = sqlite3.connect('students.db')\n",
    "    c = conn.cursor()\n",
    "    \n",
    "    c.execute(\"SELECT rowid,* FROM STUDENTS\")\n",
    "    students_all = c.fetchall()\n",
    "    for std in students_all:\n",
    "        print(std)\n",
    "        \n",
    "    conn.commit()\n",
    "    conn.close()"
   ]
  },
  {
   "cell_type": "markdown",
   "id": "904bdac1",
   "metadata": {},
   "source": [
    "### Insert a single Student in Database"
   ]
  },
  {
   "cell_type": "code",
   "execution_count": 4,
   "id": "20a1dc51",
   "metadata": {},
   "outputs": [],
   "source": [
    "def insertOne(fname,lname,age,rollNo,cgpa):\n",
    "    conn = sqlite3.connect('students.db')\n",
    "    c = conn.cursor()\n",
    "    \n",
    "    c.execute(\"INSERT INTO STUDENTS VALUES(?,?,?,?,?)\", (fname,lname,age,rollNo,cgpa))\n",
    "    print(\"Insertion successful...\") \n",
    "    conn.commit()\n",
    "    conn.close()\n"
   ]
  },
  {
   "cell_type": "code",
   "execution_count": 5,
   "id": "115bb49d",
   "metadata": {},
   "outputs": [
    {
     "name": "stdout",
     "output_type": "stream",
     "text": [
      "Enter first name : M\n",
      "Enter last name : Rafay\n",
      "Enter age : 12\n",
      "Enter Roll No : bsef18m002\n",
      "Enter CGPA : 3.4\n",
      "Insertion successful...\n"
     ]
    }
   ],
   "source": [
    "fname = input(\"Enter first name : \")\n",
    "lname = input(\"Enter last name : \")\n",
    "age = int(input(\"Enter age : \"))\n",
    "rollNo = input(\"Enter Roll No : \")\n",
    "cgpa = float(input(\"Enter CGPA : \"))\n",
    "\n",
    "insertOne(fname,lname,age,rollNo,cgpa)\n"
   ]
  },
  {
   "cell_type": "markdown",
   "id": "3d6c1f47",
   "metadata": {},
   "source": [
    "### Update a Student "
   ]
  },
  {
   "cell_type": "code",
   "execution_count": 6,
   "id": "fd0a109d",
   "metadata": {},
   "outputs": [],
   "source": [
    "def updateStudent(id):\n",
    "    \n",
    "    conn = sqlite3.connect('students.db')\n",
    "    c = conn.cursor()\n",
    "    print(\"Current data of student with id \", id  )\n",
    "    c.execute(\"SELECT * FROM STUDENTS WHERE rowid= ?\", [id])\n",
    "    student = c.fetchone()\n",
    "    print(student)\n",
    "    \n",
    "    fname = input(\"Enter first name : \")\n",
    "    lname = input(\"Enter last name : \")\n",
    "    age = int(input(\"Enter age : \"))\n",
    "    rollNo = input(\"Enter Roll No : \")\n",
    "    cgpa = float(input(\"Enter CGPA : \"))\n",
    "    \n",
    "    c.execute(\"UPDATE STUDENTS SET firstName = ?, lastName = ?, age=?,rollNo=?, cgpa=? WHERE rowid = ?\", (fname,lname,age,rollNo,cgpa,id))\n",
    "    print(\"Student Updation Successful....\")\n",
    "    conn.commit()\n",
    "    conn.close()"
   ]
  },
  {
   "cell_type": "code",
   "execution_count": 7,
   "id": "679c799c",
   "metadata": {},
   "outputs": [
    {
     "name": "stdout",
     "output_type": "stream",
     "text": [
      "Current data of student with id  2\n",
      "('Ali', 'Ahmad', 21, 'bsef19m033', 3.5)\n",
      "Enter first name : Ali\n",
      "Enter last name : Raza\n",
      "Enter age : 22\n",
      "Enter Roll No : bsef18m033\n",
      "Enter CGPA : 3.6\n",
      "Student Updation Successful....\n"
     ]
    }
   ],
   "source": [
    "updateStudent(2)"
   ]
  },
  {
   "cell_type": "markdown",
   "id": "8559db3f",
   "metadata": {},
   "source": [
    "### Delete a Student"
   ]
  },
  {
   "cell_type": "code",
   "execution_count": 8,
   "id": "c9ed1d8f",
   "metadata": {},
   "outputs": [],
   "source": [
    "def deleteStudent(id):\n",
    "    conn = sqlite3.connect('students.db')\n",
    "    c = conn.cursor()\n",
    "    c.execute(\"DELETE FROM STUDENTS WHERE rowid= ?\", [id])\n",
    "    print(\"Student Deleted Successfully....\")\n",
    "    conn.commit()\n",
    "    conn.close()"
   ]
  },
  {
   "cell_type": "code",
   "execution_count": 9,
   "id": "fd46f999",
   "metadata": {},
   "outputs": [
    {
     "name": "stdout",
     "output_type": "stream",
     "text": [
      "Student Deleted Successfully....\n"
     ]
    }
   ],
   "source": [
    "deleteStudent(1)"
   ]
  },
  {
   "cell_type": "code",
   "execution_count": 22,
   "id": "848b3332",
   "metadata": {},
   "outputs": [],
   "source": [
    "showAll()"
   ]
  },
  {
   "cell_type": "markdown",
   "id": "f8b8a532",
   "metadata": {},
   "source": [
    "### Load Data from CSV"
   ]
  },
  {
   "cell_type": "code",
   "execution_count": 11,
   "id": "c2c9d2c6",
   "metadata": {},
   "outputs": [],
   "source": [
    "import csv, sqlite3"
   ]
  },
  {
   "cell_type": "code",
   "execution_count": 23,
   "id": "338a0111",
   "metadata": {},
   "outputs": [],
   "source": [
    "def loadFromCSV():\n",
    "    conn = sqlite3.connect(\"students.db\") # change to 'sqlite:///your_filename.db'\n",
    "    c = conn.cursor()\n",
    "\n",
    "    listData = []\n",
    "    \n",
    "    with open('std-data.csv','r') as fin: # `with` statement available in 2.5+\n",
    "    # csv.DictReader uses first line in file for column headings by default\n",
    "        dr = csv.DictReader(fin) # comma is default delimiter\n",
    "        to_db = [(i['firstName'], i['lastName'],i['age'],i['rollNo'],i['cgpa']) for i in dr]\n",
    "\n",
    "    c.executemany(\"INSERT INTO STUDENTS(firstName,lastName,age,rollNo,cgpa) VALUES (?,?,?,?,?)\", to_db)\n",
    "    conn.commit()\n",
    "    conn.close()\n",
    "    "
   ]
  },
  {
   "cell_type": "code",
   "execution_count": 13,
   "id": "aa4ce083",
   "metadata": {},
   "outputs": [],
   "source": [
    "loadFromCSV()"
   ]
  },
  {
   "cell_type": "code",
   "execution_count": 24,
   "id": "71d9b4df",
   "metadata": {},
   "outputs": [],
   "source": [
    "showAll()"
   ]
  },
  {
   "cell_type": "code",
   "execution_count": 25,
   "id": "bd1f0f53",
   "metadata": {},
   "outputs": [],
   "source": [
    "conn = sqlite3.connect(\"students.db\") \n",
    "c = conn.cursor()\n",
    "\n",
    "query = \"DELETE FROM STUDENTS;\"\n",
    "\n",
    "c.execute(query)\n",
    "conn.commit()\n",
    "conn.close()"
   ]
  },
  {
   "cell_type": "code",
   "execution_count": 26,
   "id": "05cadc5a",
   "metadata": {},
   "outputs": [],
   "source": [
    "showAll()"
   ]
  }
 ],
 "metadata": {
  "kernelspec": {
   "display_name": "Python 3 (ipykernel)",
   "language": "python",
   "name": "python3"
  },
  "language_info": {
   "codemirror_mode": {
    "name": "ipython",
    "version": 3
   },
   "file_extension": ".py",
   "mimetype": "text/x-python",
   "name": "python",
   "nbconvert_exporter": "python",
   "pygments_lexer": "ipython3",
   "version": "3.9.12"
  }
 },
 "nbformat": 4,
 "nbformat_minor": 5
}
