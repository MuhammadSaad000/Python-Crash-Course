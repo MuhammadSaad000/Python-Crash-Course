{
 "cells": [
  {
   "cell_type": "markdown",
   "id": "10718177",
   "metadata": {},
   "source": [
    "# <center>Day-6 "
   ]
  },
  {
   "cell_type": "markdown",
   "id": "545bdecc",
   "metadata": {},
   "source": [
    "# Random Module In Python"
   ]
  },
  {
   "cell_type": "code",
   "execution_count": 8,
   "id": "e1e086e1",
   "metadata": {},
   "outputs": [
    {
     "name": "stdout",
     "output_type": "stream",
     "text": [
      "0.4193037333526014\n",
      "8.504456847263175\n",
      "9\n"
     ]
    }
   ],
   "source": [
    "import random\n",
    "\n",
    "# generate a random float number bw 0 and 1\n",
    "a = random.random()\n",
    "print(a)\n",
    "\n",
    "# generate a random float number bw a given range\n",
    "a = random.uniform(1,29)\n",
    "print(a)\n",
    "\n",
    "# generate random integer \n",
    "a = random.randint(1,10)\n",
    "print(a)"
   ]
  },
  {
   "cell_type": "code",
   "execution_count": 36,
   "id": "9e3f48f6",
   "metadata": {},
   "outputs": [
    {
     "name": "stdout",
     "output_type": "stream",
     "text": [
      "['d', 'b', 'a']\n",
      "['a', 'a']\n",
      "['a', 'e', 'c', 'b', 'd']\n"
     ]
    }
   ],
   "source": [
    "# list of characters \n",
    "myList = list(\"abcde\")\n",
    "\n",
    "\n",
    "# use below syntax to create a list that contains single string \"abcde\"\n",
    "# myList = list([\"abcde\"])\n",
    "\n",
    "\n",
    "#choosing single random item from list \n",
    "a = random.choice(myList)\n",
    "\n",
    "\n",
    "# choose unique 3 items randomly from list\n",
    "a = random.sample(myList, 3)\n",
    "print(a)\n",
    "\n",
    "# pick elements multiple times\n",
    "a = random.choices(myList , k=2)\n",
    "print(a)\n",
    "\n",
    "# randomly shuffle the elements of list\n",
    "random.shuffle(myList)\n",
    "print(myList)"
   ]
  },
  {
   "cell_type": "markdown",
   "id": "2e0734a8",
   "metadata": {},
   "source": [
    "### random.seed()"
   ]
  },
  {
   "cell_type": "code",
   "execution_count": 48,
   "id": "5540dc71",
   "metadata": {},
   "outputs": [
    {
     "name": "stdout",
     "output_type": "stream",
     "text": [
      "1\n",
      "2\n",
      "1\n",
      "2\n"
     ]
    }
   ],
   "source": [
    "random.seed(2)\n",
    "print(random.randint(1,10))\n",
    "print(random.randint(1,10))\n",
    "\n",
    "# produce same output again and again as random number generator is initialized\n",
    "random.seed(2)\n",
    "print(random.randint(1,10))\n",
    "print(random.randint(1,10))\n"
   ]
  },
  {
   "cell_type": "code",
   "execution_count": null,
   "id": "0c545f33",
   "metadata": {},
   "outputs": [],
   "source": []
  }
 ],
 "metadata": {
  "kernelspec": {
   "display_name": "Python 3 (ipykernel)",
   "language": "python",
   "name": "python3"
  },
  "language_info": {
   "codemirror_mode": {
    "name": "ipython",
    "version": 3
   },
   "file_extension": ".py",
   "mimetype": "text/x-python",
   "name": "python",
   "nbconvert_exporter": "python",
   "pygments_lexer": "ipython3",
   "version": "3.9.12"
  }
 },
 "nbformat": 4,
 "nbformat_minor": 5
}
