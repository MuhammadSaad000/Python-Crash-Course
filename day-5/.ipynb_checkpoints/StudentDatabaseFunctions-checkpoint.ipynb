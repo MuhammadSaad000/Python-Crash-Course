{
 "cells": [
  {
   "cell_type": "code",
   "execution_count": 144,
   "id": "3472286f",
   "metadata": {},
   "outputs": [],
   "source": [
    "import sqlite3"
   ]
  },
  {
   "cell_type": "code",
   "execution_count": 145,
   "id": "8367d8e0",
   "metadata": {},
   "outputs": [],
   "source": [
    "def createDb():\n",
    "    conn = sqlite3.connect(\"students.db\")\n",
    "    c = conn.cursor()\n",
    "    c.execute(\"\"\"CREATE TABLE IF NOT EXISTS students(\n",
    "        firstName text,\n",
    "        lastName text,\n",
    "        age integer,\n",
    "        rollNo text,\n",
    "        cgpa real,\n",
    "    )\"\"\")"
   ]
  },
  {
   "cell_type": "markdown",
   "id": "2a935498",
   "metadata": {},
   "source": [
    "### Get All Students from Database"
   ]
  },
  {
   "cell_type": "code",
   "execution_count": 146,
   "id": "29fe5a77",
   "metadata": {},
   "outputs": [],
   "source": [
    "def showAll():\n",
    "    conn = sqlite3.connect('students.db')\n",
    "    c = conn.cursor()\n",
    "    \n",
    "    c.execute(\"SELECT rowid,* FROM STUDENTS\")\n",
    "    students_all = c.fetchall()\n",
    "    for std in students_all:\n",
    "        print(std)\n",
    "        \n",
    "    conn.commit()\n",
    "    conn.close()"
   ]
  },
  {
   "cell_type": "markdown",
   "id": "904bdac1",
   "metadata": {},
   "source": [
    "### Insert a single Student in Database"
   ]
  },
  {
   "cell_type": "code",
   "execution_count": 147,
   "id": "20a1dc51",
   "metadata": {},
   "outputs": [],
   "source": [
    "def insertOne(fname,lname,age,rollNo,cgpa):\n",
    "    conn = sqlite3.connect('students.db')\n",
    "    c = conn.cursor()\n",
    "    \n",
    "    c.execute(\"INSERT INTO STUDENTS VALUES(?,?,?,?,?)\", (fname,lname,age,rollNo,cgpa))\n",
    "    print(\"Insertion successful...\") \n",
    "    conn.commit()\n",
    "    conn.close()\n"
   ]
  },
  {
   "cell_type": "code",
   "execution_count": 148,
   "id": "115bb49d",
   "metadata": {},
   "outputs": [
    {
     "name": "stdout",
     "output_type": "stream",
     "text": [
      "Enter first name : Muhammad\n",
      "Enter last name : Ahmad\n",
      "Enter age : 21\n",
      "Enter Roll No : bsef18m011\n",
      "Enter CGPA : 3.5\n"
     ]
    },
    {
     "ename": "OperationalError",
     "evalue": "database is locked",
     "output_type": "error",
     "traceback": [
      "\u001b[1;31m---------------------------------------------------------------------------\u001b[0m",
      "\u001b[1;31mOperationalError\u001b[0m                          Traceback (most recent call last)",
      "Input \u001b[1;32mIn [148]\u001b[0m, in \u001b[0;36m<cell line: 7>\u001b[1;34m()\u001b[0m\n\u001b[0;32m      4\u001b[0m rollNo \u001b[38;5;241m=\u001b[39m \u001b[38;5;28minput\u001b[39m(\u001b[38;5;124m\"\u001b[39m\u001b[38;5;124mEnter Roll No : \u001b[39m\u001b[38;5;124m\"\u001b[39m)\n\u001b[0;32m      5\u001b[0m cgpa \u001b[38;5;241m=\u001b[39m \u001b[38;5;28mfloat\u001b[39m(\u001b[38;5;28minput\u001b[39m(\u001b[38;5;124m\"\u001b[39m\u001b[38;5;124mEnter CGPA : \u001b[39m\u001b[38;5;124m\"\u001b[39m))\n\u001b[1;32m----> 7\u001b[0m \u001b[43minsertOne\u001b[49m\u001b[43m(\u001b[49m\u001b[43mfname\u001b[49m\u001b[43m,\u001b[49m\u001b[43mlname\u001b[49m\u001b[43m,\u001b[49m\u001b[43mage\u001b[49m\u001b[43m,\u001b[49m\u001b[43mrollNo\u001b[49m\u001b[43m,\u001b[49m\u001b[43mcgpa\u001b[49m\u001b[43m)\u001b[49m\n",
      "Input \u001b[1;32mIn [147]\u001b[0m, in \u001b[0;36minsertOne\u001b[1;34m(fname, lname, age, rollNo, cgpa)\u001b[0m\n\u001b[0;32m      2\u001b[0m conn \u001b[38;5;241m=\u001b[39m sqlite3\u001b[38;5;241m.\u001b[39mconnect(\u001b[38;5;124m'\u001b[39m\u001b[38;5;124mstudents.db\u001b[39m\u001b[38;5;124m'\u001b[39m)\n\u001b[0;32m      3\u001b[0m c \u001b[38;5;241m=\u001b[39m conn\u001b[38;5;241m.\u001b[39mcursor()\n\u001b[1;32m----> 5\u001b[0m \u001b[43mc\u001b[49m\u001b[38;5;241;43m.\u001b[39;49m\u001b[43mexecute\u001b[49m\u001b[43m(\u001b[49m\u001b[38;5;124;43m\"\u001b[39;49m\u001b[38;5;124;43mINSERT INTO STUDENTS VALUES(?,?,?,?,?)\u001b[39;49m\u001b[38;5;124;43m\"\u001b[39;49m\u001b[43m,\u001b[49m\u001b[43m \u001b[49m\u001b[43m(\u001b[49m\u001b[43mfname\u001b[49m\u001b[43m,\u001b[49m\u001b[43mlname\u001b[49m\u001b[43m,\u001b[49m\u001b[43mage\u001b[49m\u001b[43m,\u001b[49m\u001b[43mrollNo\u001b[49m\u001b[43m,\u001b[49m\u001b[43mcgpa\u001b[49m\u001b[43m)\u001b[49m\u001b[43m)\u001b[49m\n\u001b[0;32m      6\u001b[0m \u001b[38;5;28mprint\u001b[39m(\u001b[38;5;124m\"\u001b[39m\u001b[38;5;124mInsertion successful...\u001b[39m\u001b[38;5;124m\"\u001b[39m) \n\u001b[0;32m      7\u001b[0m conn\u001b[38;5;241m.\u001b[39mcommit()\n",
      "\u001b[1;31mOperationalError\u001b[0m: database is locked"
     ]
    }
   ],
   "source": [
    "fname = input(\"Enter first name : \")\n",
    "lname = input(\"Enter last name : \")\n",
    "age = int(input(\"Enter age : \"))\n",
    "rollNo = input(\"Enter Roll No : \")\n",
    "cgpa = float(input(\"Enter CGPA : \"))\n",
    "\n",
    "insertOne(fname,lname,age,rollNo,cgpa)\n"
   ]
  },
  {
   "cell_type": "markdown",
   "id": "3d6c1f47",
   "metadata": {},
   "source": [
    "### Update a Student "
   ]
  },
  {
   "cell_type": "code",
   "execution_count": 131,
   "id": "fd0a109d",
   "metadata": {},
   "outputs": [],
   "source": [
    "def updateStudent(id):\n",
    "    \n",
    "    conn = sqlite3.connect('students.db')\n",
    "    c = conn.cursor()\n",
    "    print(\"Current data of student with id \", id  )\n",
    "    c.execute(\"SELECT * FROM STUDENTS WHERE rowid= ?\", [id])\n",
    "    student = c.fetchone()\n",
    "    print(student)\n",
    "    \n",
    "    fname = input(\"Enter first name : \")\n",
    "    lname = input(\"Enter last name : \")\n",
    "    age = int(input(\"Enter age : \"))\n",
    "    rollNo = input(\"Enter Roll No : \")\n",
    "    cgpa = float(input(\"Enter CGPA : \"))\n",
    "    \n",
    "    c.execute(\"UPDATE STUDENTS SET firstName = ?, lastName = ?, age=?,rollNo=?, cgpa=? WHERE rowid = ?\", (fname,lname,age,rollNo,cgpa,id))\n",
    "    print(\"Student Updation Successful....\")\n",
    "    conn.commit()\n",
    "    conn.close()"
   ]
  },
  {
   "cell_type": "code",
   "execution_count": 133,
   "id": "679c799c",
   "metadata": {},
   "outputs": [
    {
     "name": "stdout",
     "output_type": "stream",
     "text": [
      "Current data of student with id  2\n",
      "('Ali', 'Ahmad', 21, 'bsef19m033', 3.5)\n"
     ]
    },
    {
     "ename": "KeyboardInterrupt",
     "evalue": "Interrupted by user",
     "output_type": "error",
     "traceback": [
      "\u001b[1;31m---------------------------------------------------------------------------\u001b[0m",
      "\u001b[1;31mKeyboardInterrupt\u001b[0m                         Traceback (most recent call last)",
      "Input \u001b[1;32mIn [133]\u001b[0m, in \u001b[0;36m<cell line: 1>\u001b[1;34m()\u001b[0m\n\u001b[1;32m----> 1\u001b[0m \u001b[43mupdateStudent\u001b[49m\u001b[43m(\u001b[49m\u001b[38;5;241;43m2\u001b[39;49m\u001b[43m)\u001b[49m\n",
      "Input \u001b[1;32mIn [131]\u001b[0m, in \u001b[0;36mupdateStudent\u001b[1;34m(id)\u001b[0m\n\u001b[0;32m      7\u001b[0m student \u001b[38;5;241m=\u001b[39m c\u001b[38;5;241m.\u001b[39mfetchone()\n\u001b[0;32m      8\u001b[0m \u001b[38;5;28mprint\u001b[39m(student)\n\u001b[1;32m---> 10\u001b[0m fname \u001b[38;5;241m=\u001b[39m \u001b[38;5;28;43minput\u001b[39;49m\u001b[43m(\u001b[49m\u001b[38;5;124;43m\"\u001b[39;49m\u001b[38;5;124;43mEnter first name : \u001b[39;49m\u001b[38;5;124;43m\"\u001b[39;49m\u001b[43m)\u001b[49m\n\u001b[0;32m     11\u001b[0m lname \u001b[38;5;241m=\u001b[39m \u001b[38;5;28minput\u001b[39m(\u001b[38;5;124m\"\u001b[39m\u001b[38;5;124mEnter last name : \u001b[39m\u001b[38;5;124m\"\u001b[39m)\n\u001b[0;32m     12\u001b[0m age \u001b[38;5;241m=\u001b[39m \u001b[38;5;28mint\u001b[39m(\u001b[38;5;28minput\u001b[39m(\u001b[38;5;124m\"\u001b[39m\u001b[38;5;124mEnter age : \u001b[39m\u001b[38;5;124m\"\u001b[39m))\n",
      "File \u001b[1;32m~\\anaconda3\\lib\\site-packages\\ipykernel\\kernelbase.py:1075\u001b[0m, in \u001b[0;36mKernel.raw_input\u001b[1;34m(self, prompt)\u001b[0m\n\u001b[0;32m   1071\u001b[0m \u001b[38;5;28;01mif\u001b[39;00m \u001b[38;5;129;01mnot\u001b[39;00m \u001b[38;5;28mself\u001b[39m\u001b[38;5;241m.\u001b[39m_allow_stdin:\n\u001b[0;32m   1072\u001b[0m     \u001b[38;5;28;01mraise\u001b[39;00m StdinNotImplementedError(\n\u001b[0;32m   1073\u001b[0m         \u001b[38;5;124m\"\u001b[39m\u001b[38;5;124mraw_input was called, but this frontend does not support input requests.\u001b[39m\u001b[38;5;124m\"\u001b[39m\n\u001b[0;32m   1074\u001b[0m     )\n\u001b[1;32m-> 1075\u001b[0m \u001b[38;5;28;01mreturn\u001b[39;00m \u001b[38;5;28;43mself\u001b[39;49m\u001b[38;5;241;43m.\u001b[39;49m\u001b[43m_input_request\u001b[49m\u001b[43m(\u001b[49m\n\u001b[0;32m   1076\u001b[0m \u001b[43m    \u001b[49m\u001b[38;5;28;43mstr\u001b[39;49m\u001b[43m(\u001b[49m\u001b[43mprompt\u001b[49m\u001b[43m)\u001b[49m\u001b[43m,\u001b[49m\n\u001b[0;32m   1077\u001b[0m \u001b[43m    \u001b[49m\u001b[38;5;28;43mself\u001b[39;49m\u001b[38;5;241;43m.\u001b[39;49m\u001b[43m_parent_ident\u001b[49m\u001b[43m[\u001b[49m\u001b[38;5;124;43m\"\u001b[39;49m\u001b[38;5;124;43mshell\u001b[39;49m\u001b[38;5;124;43m\"\u001b[39;49m\u001b[43m]\u001b[49m\u001b[43m,\u001b[49m\n\u001b[0;32m   1078\u001b[0m \u001b[43m    \u001b[49m\u001b[38;5;28;43mself\u001b[39;49m\u001b[38;5;241;43m.\u001b[39;49m\u001b[43mget_parent\u001b[49m\u001b[43m(\u001b[49m\u001b[38;5;124;43m\"\u001b[39;49m\u001b[38;5;124;43mshell\u001b[39;49m\u001b[38;5;124;43m\"\u001b[39;49m\u001b[43m)\u001b[49m\u001b[43m,\u001b[49m\n\u001b[0;32m   1079\u001b[0m \u001b[43m    \u001b[49m\u001b[43mpassword\u001b[49m\u001b[38;5;241;43m=\u001b[39;49m\u001b[38;5;28;43;01mFalse\u001b[39;49;00m\u001b[43m,\u001b[49m\n\u001b[0;32m   1080\u001b[0m \u001b[43m\u001b[49m\u001b[43m)\u001b[49m\n",
      "File \u001b[1;32m~\\anaconda3\\lib\\site-packages\\ipykernel\\kernelbase.py:1120\u001b[0m, in \u001b[0;36mKernel._input_request\u001b[1;34m(self, prompt, ident, parent, password)\u001b[0m\n\u001b[0;32m   1117\u001b[0m             \u001b[38;5;28;01mbreak\u001b[39;00m\n\u001b[0;32m   1118\u001b[0m \u001b[38;5;28;01mexcept\u001b[39;00m \u001b[38;5;167;01mKeyboardInterrupt\u001b[39;00m:\n\u001b[0;32m   1119\u001b[0m     \u001b[38;5;66;03m# re-raise KeyboardInterrupt, to truncate traceback\u001b[39;00m\n\u001b[1;32m-> 1120\u001b[0m     \u001b[38;5;28;01mraise\u001b[39;00m \u001b[38;5;167;01mKeyboardInterrupt\u001b[39;00m(\u001b[38;5;124m\"\u001b[39m\u001b[38;5;124mInterrupted by user\u001b[39m\u001b[38;5;124m\"\u001b[39m) \u001b[38;5;28;01mfrom\u001b[39;00m \u001b[38;5;28mNone\u001b[39m\n\u001b[0;32m   1121\u001b[0m \u001b[38;5;28;01mexcept\u001b[39;00m \u001b[38;5;167;01mException\u001b[39;00m:\n\u001b[0;32m   1122\u001b[0m     \u001b[38;5;28mself\u001b[39m\u001b[38;5;241m.\u001b[39mlog\u001b[38;5;241m.\u001b[39mwarning(\u001b[38;5;124m\"\u001b[39m\u001b[38;5;124mInvalid Message:\u001b[39m\u001b[38;5;124m\"\u001b[39m, exc_info\u001b[38;5;241m=\u001b[39m\u001b[38;5;28;01mTrue\u001b[39;00m)\n",
      "\u001b[1;31mKeyboardInterrupt\u001b[0m: Interrupted by user"
     ]
    }
   ],
   "source": [
    "updateStudent(2)"
   ]
  },
  {
   "cell_type": "markdown",
   "id": "8559db3f",
   "metadata": {},
   "source": [
    "### Delete a Student"
   ]
  },
  {
   "cell_type": "code",
   "execution_count": null,
   "id": "c9ed1d8f",
   "metadata": {},
   "outputs": [],
   "source": [
    "def deleteStudent(id):\n",
    "    conn = sqlite3.connect('students.db')\n",
    "    c = conn.cursor()\n",
    "    c.execute(\"DELETE FROM STUDENTS WHERE rowid= ?\", [id])\n",
    "    print(\"Student Deleted Successfully....\")\n",
    "    conn.commit()\n",
    "    conn.close()"
   ]
  },
  {
   "cell_type": "code",
   "execution_count": null,
   "id": "fd46f999",
   "metadata": {},
   "outputs": [],
   "source": [
    "deleteStudent(1)"
   ]
  },
  {
   "cell_type": "code",
   "execution_count": null,
   "id": "848b3332",
   "metadata": {},
   "outputs": [],
   "source": [
    "showAll()"
   ]
  },
  {
   "cell_type": "markdown",
   "id": "f8b8a532",
   "metadata": {},
   "source": [
    "### Load Data from CSV"
   ]
  },
  {
   "cell_type": "code",
   "execution_count": 72,
   "id": "c2c9d2c6",
   "metadata": {},
   "outputs": [],
   "source": [
    "import csv, sqlite3"
   ]
  },
  {
   "cell_type": "code",
   "execution_count": 103,
   "id": "338a0111",
   "metadata": {},
   "outputs": [],
   "source": [
    "def loadFromCSV():\n",
    "    conn = sqlite3.connect(\"students.db\") # change to 'sqlite:///your_filename.db'\n",
    "    c = conn.cursor()\n",
    "\n",
    "    listData = []\n",
    "    \n",
    "    with open('std-data.csv','r') as fin: # `with` statement available in 2.5+\n",
    "    # csv.DictReader uses first line in file for column headings by default\n",
    "        dr = csv.DictReader(fin) # comma is default delimiter\n",
    "        to_db = [(i['firstName'], i['lastName'],i['age'],i['rollNo'],i['cgpa']) for i in dr]\n",
    "\n",
    "    c.executemany(\"INSERT INTO STUDENTS(firstName,lastName,age,rollNo,cgpa) VALUES (?,?,?,?,?)\", to_db)\n",
    "    conn.commit()\n",
    "    conn.close()\n",
    "    "
   ]
  },
  {
   "cell_type": "code",
   "execution_count": 126,
   "id": "aa4ce083",
   "metadata": {},
   "outputs": [
    {
     "ename": "OperationalError",
     "evalue": "database is locked",
     "output_type": "error",
     "traceback": [
      "\u001b[1;31m---------------------------------------------------------------------------\u001b[0m",
      "\u001b[1;31mOperationalError\u001b[0m                          Traceback (most recent call last)",
      "Input \u001b[1;32mIn [126]\u001b[0m, in \u001b[0;36m<cell line: 1>\u001b[1;34m()\u001b[0m\n\u001b[1;32m----> 1\u001b[0m \u001b[43mloadFromCSV\u001b[49m\u001b[43m(\u001b[49m\u001b[43m)\u001b[49m\n",
      "Input \u001b[1;32mIn [103]\u001b[0m, in \u001b[0;36mloadFromCSV\u001b[1;34m()\u001b[0m\n\u001b[0;32m      9\u001b[0m     dr \u001b[38;5;241m=\u001b[39m csv\u001b[38;5;241m.\u001b[39mDictReader(fin) \u001b[38;5;66;03m# comma is default delimiter\u001b[39;00m\n\u001b[0;32m     10\u001b[0m     to_db \u001b[38;5;241m=\u001b[39m [(i[\u001b[38;5;124m'\u001b[39m\u001b[38;5;124mfirstName\u001b[39m\u001b[38;5;124m'\u001b[39m], i[\u001b[38;5;124m'\u001b[39m\u001b[38;5;124mlastName\u001b[39m\u001b[38;5;124m'\u001b[39m],i[\u001b[38;5;124m'\u001b[39m\u001b[38;5;124mage\u001b[39m\u001b[38;5;124m'\u001b[39m],i[\u001b[38;5;124m'\u001b[39m\u001b[38;5;124mrollNo\u001b[39m\u001b[38;5;124m'\u001b[39m],i[\u001b[38;5;124m'\u001b[39m\u001b[38;5;124mcgpa\u001b[39m\u001b[38;5;124m'\u001b[39m]) \u001b[38;5;28;01mfor\u001b[39;00m i \u001b[38;5;129;01min\u001b[39;00m dr]\n\u001b[1;32m---> 12\u001b[0m \u001b[43mc\u001b[49m\u001b[38;5;241;43m.\u001b[39;49m\u001b[43mexecutemany\u001b[49m\u001b[43m(\u001b[49m\u001b[38;5;124;43m\"\u001b[39;49m\u001b[38;5;124;43mINSERT INTO STUDENTS(firstName,lastName,age,rollNo,cgpa) VALUES (?,?,?,?,?)\u001b[39;49m\u001b[38;5;124;43m\"\u001b[39;49m\u001b[43m,\u001b[49m\u001b[43m \u001b[49m\u001b[43mto_db\u001b[49m\u001b[43m)\u001b[49m\n\u001b[0;32m     13\u001b[0m conn\u001b[38;5;241m.\u001b[39mcommit()\n\u001b[0;32m     14\u001b[0m conn\u001b[38;5;241m.\u001b[39mclose()\n",
      "\u001b[1;31mOperationalError\u001b[0m: database is locked"
     ]
    }
   ],
   "source": [
    "loadFromCSV()"
   ]
  },
  {
   "cell_type": "code",
   "execution_count": 141,
   "id": "71d9b4df",
   "metadata": {},
   "outputs": [
    {
     "name": "stdout",
     "output_type": "stream",
     "text": [
      "(1, 'Muhammad', 'Saad', 22, 'bsef19m037', 3.1)\n",
      "(2, 'Ali', 'Ahmad', 21, 'bsef19m033', 3.5)\n",
      "(3, 'Ali', 'Hamid', 12, 'bsef19m034', 2.9)\n",
      "(4, 'Shahid', 'Hameed', 11, 'bsef19m035', 3.6)\n",
      "(5, 'Muhammad', 'Saad', 22, 'bsef19m037', 3.1)\n",
      "(6, 'Ali', 'Ahmad', 21, 'bsef19m033', 3.5)\n",
      "(7, 'Ali', 'Hamid', 12, 'bsef19m034', 2.9)\n",
      "(8, 'Shahid', 'Hameed', 11, 'bsef19m035', 3.6)\n",
      "(9, 'Muhammad', 'Saad', 22, 'bsef19m037', 3.1)\n",
      "(10, 'Ali', 'Ahmad', 21, 'bsef19m033', 3.5)\n",
      "(11, 'Ali', 'Hamid', 12, 'bsef19m034', 2.9)\n",
      "(12, 'Shahid', 'Hameed', 11, 'bsef19m035', 3.6)\n",
      "(13, 'Muhammad', 'Saad', 22, 'bsef19m037', 3.1)\n",
      "(14, 'Ali', 'Ahmad', 21, 'bsef19m033', 3.5)\n",
      "(15, 'Ali', 'Hamid', 12, 'bsef19m034', 2.9)\n",
      "(16, 'Shahid', 'Hameed', 11, 'bsef19m035', 3.6)\n",
      "(17, 'Muhammad', 'Saad', 22, 'bsef19m037', 3.1)\n",
      "(18, 'Ali', 'Ahmad', 21, 'bsef19m033', 3.5)\n",
      "(19, 'Ali', 'Hamid', 12, 'bsef19m034', 2.9)\n",
      "(20, 'Shahid', 'Hameed', 11, 'bsef19m035', 3.6)\n",
      "(21, 'Muhammad', 'Saad', 22, 'bsef19m037', 3.1)\n",
      "(22, 'Ali', 'Ahmad', 21, 'bsef19m033', 3.5)\n",
      "(23, 'Ali', 'Hamid', 12, 'bsef19m034', 2.9)\n",
      "(24, 'Shahid', 'Hameed', 11, 'bsef19m035', 3.6)\n"
     ]
    }
   ],
   "source": [
    "showAll()\n"
   ]
  },
  {
   "cell_type": "code",
   "execution_count": 142,
   "id": "bd1f0f53",
   "metadata": {},
   "outputs": [
    {
     "ename": "OperationalError",
     "evalue": "database is locked",
     "output_type": "error",
     "traceback": [
      "\u001b[1;31m---------------------------------------------------------------------------\u001b[0m",
      "\u001b[1;31mOperationalError\u001b[0m                          Traceback (most recent call last)",
      "Input \u001b[1;32mIn [142]\u001b[0m, in \u001b[0;36m<cell line: 6>\u001b[1;34m()\u001b[0m\n\u001b[0;32m      2\u001b[0m c \u001b[38;5;241m=\u001b[39m conn\u001b[38;5;241m.\u001b[39mcursor()\n\u001b[0;32m      4\u001b[0m query \u001b[38;5;241m=\u001b[39m \u001b[38;5;124m\"\u001b[39m\u001b[38;5;124mDELETE FROM STUDENTS;\u001b[39m\u001b[38;5;124m\"\u001b[39m\n\u001b[1;32m----> 6\u001b[0m \u001b[43mc\u001b[49m\u001b[38;5;241;43m.\u001b[39;49m\u001b[43mexecute\u001b[49m\u001b[43m(\u001b[49m\u001b[43mquery\u001b[49m\u001b[43m)\u001b[49m\n\u001b[0;32m      7\u001b[0m conn\u001b[38;5;241m.\u001b[39mcommit()\n\u001b[0;32m      8\u001b[0m conn\u001b[38;5;241m.\u001b[39mclose()\n",
      "\u001b[1;31mOperationalError\u001b[0m: database is locked"
     ]
    }
   ],
   "source": [
    "conn = sqlite3.connect(\"students.db\") \n",
    "c = conn.cursor()\n",
    "\n",
    "query = \"DELETE FROM STUDENTS;\"\n",
    "\n",
    "c.execute(query)\n",
    "conn.commit()\n",
    "conn.close()"
   ]
  }
 ],
 "metadata": {
  "kernelspec": {
   "display_name": "Python 3 (ipykernel)",
   "language": "python",
   "name": "python3"
  },
  "language_info": {
   "codemirror_mode": {
    "name": "ipython",
    "version": 3
   },
   "file_extension": ".py",
   "mimetype": "text/x-python",
   "name": "python",
   "nbconvert_exporter": "python",
   "pygments_lexer": "ipython3",
   "version": "3.9.12"
  }
 },
 "nbformat": 4,
 "nbformat_minor": 5
}
