{
 "cells": [
  {
   "cell_type": "markdown",
   "id": "bfd354db",
   "metadata": {},
   "source": [
    "\n",
    "# <center> Day-4"
   ]
  },
  {
   "cell_type": "markdown",
   "id": "4ffe8848",
   "metadata": {},
   "source": [
    "## Dictionaries"
   ]
  },
  {
   "cell_type": "markdown",
   "id": "f482e039",
   "metadata": {},
   "source": [
    "### Creating Dictionaries\n",
    "Dictionaries are **ordered** and changeable. No duplicate members"
   ]
  },
  {
   "cell_type": "code",
   "execution_count": 77,
   "id": "ff78e213",
   "metadata": {},
   "outputs": [
    {
     "name": "stdout",
     "output_type": "stream",
     "text": [
      "<class 'dict'>\n",
      "{'brand': 'samsung', 'price': 700, 'camera': '20MP'}\n",
      "<class 'dict'>\n",
      "{'brand': 'Suzuki', 'name': 'Alto', 'airBags': False, 'camera': False, 'price': '3M', 'colors': ['blue', 'red', 'white', 'yellow']}\n"
     ]
    }
   ],
   "source": [
    "\n",
    "\n",
    "# using dict function to create dictionary\n",
    "newPhone = dict(brand=\"samsung\" , price= 700, camera=\"20MP\")\n",
    "\n",
    "print(type(newPhone))\n",
    "print(newPhone)\n",
    "\n",
    "# curly brackets in front of any variable name will initialize an empty dictionary\n",
    "newCar = {}\n",
    "newCar = {\n",
    "    \"brand\" : \"Suzuki\",\n",
    "    \"name\" : \"Alto\",\n",
    "    \"airBags\" : False,\n",
    "    \"camera\" : False,\n",
    "    \"price\" : \"3M\",\n",
    "    \"colors\" : [\"blue\", \"red\", \"white\", \"yellow\"],\n",
    "}\n",
    "\n",
    "\n",
    "print(type(newCar))\n",
    "print(newCar)"
   ]
  },
  {
   "cell_type": "markdown",
   "id": "3962ac4b",
   "metadata": {},
   "source": [
    "### Accessing Items "
   ]
  },
  {
   "cell_type": "code",
   "execution_count": 78,
   "id": "e6e3161a",
   "metadata": {},
   "outputs": [
    {
     "name": "stdout",
     "output_type": "stream",
     "text": [
      "Alto\n",
      "Cultus\n",
      "['blue', 'red', 'white', 'yellow']\n",
      "Keys \n",
      "dict_keys(['brand', 'name', 'airBags', 'camera', 'price', 'colors'])\n",
      "values : \n",
      "dict_values(['Suzuki', 'Cultus', False, False, '3M', ['blue', 'red', 'white', 'yellow']])\n",
      "Key Value pairs : \n",
      "dict_items([('brand', 'Suzuki'), ('name', 'Cultus'), ('airBags', False), ('camera', False), ('price', '3M'), ('colors', ['blue', 'red', 'white', 'yellow'])])\n",
      "<class 'list'>\n"
     ]
    }
   ],
   "source": [
    "# keys in dictionaries must be unique else values will be overridden \n",
    "print(newCar[\"name\"])\n",
    "\n",
    "# changing the name of car\n",
    "newCar[\"name\"] = \"Cultus\"\n",
    "\n",
    "print(newCar[\"name\"])\n",
    "\n",
    "# get the values of given key using get method\n",
    "print(newCar.get(\"colors\"))\n",
    "\n",
    "\n",
    "# print which keys are in newCar dictionary\n",
    "print(\"Keys \")\n",
    "print(newCar.keys())\n",
    "\n",
    "print(\"values : \")\n",
    "# print which values are in newCar dictionary\n",
    "print(newCar.values())\n",
    "\n",
    "print(\"Key Value pairs : \")\n",
    "# print list of key:value pairs \n",
    "print(newCar.items())\n",
    "\n",
    "# type of individual key\n",
    "print(type(newCar[\"colors\"]))\n"
   ]
  },
  {
   "cell_type": "markdown",
   "id": "b4813394",
   "metadata": {},
   "source": [
    "### Modifying Values"
   ]
  },
  {
   "cell_type": "code",
   "execution_count": 79,
   "id": "c489a084",
   "metadata": {},
   "outputs": [
    {
     "name": "stdout",
     "output_type": "stream",
     "text": [
      "KIA\n",
      "5M\n"
     ]
    }
   ],
   "source": [
    "\n",
    "#check if given key exists\n",
    "\n",
    "if \"brand\" and \"price\" in newCar:\n",
    "    newCar[\"brand\"] = \"KIA\"\n",
    "    # update takes the dictionay items along values to change\n",
    "    newCar.update({\"price\":\"5M\"})\n",
    "    \n",
    "\n",
    "print(newCar[\"brand\"])\n",
    "print(newCar[\"price\"])\n",
    "\n"
   ]
  },
  {
   "cell_type": "markdown",
   "id": "eb7b86e7",
   "metadata": {},
   "source": [
    "### Adding Items in a Dictionary"
   ]
  },
  {
   "cell_type": "code",
   "execution_count": 80,
   "id": "dd53a4c3",
   "metadata": {},
   "outputs": [
    {
     "name": "stdout",
     "output_type": "stream",
     "text": [
      "{'brand': 'KIA', 'name': 'Cultus', 'airBags': False, 'camera': False, 'price': '5M', 'colors': ['blue', 'red', 'white', 'yellow'], 'owner': 'Ali', 'headlights': False}\n"
     ]
    }
   ],
   "source": [
    "newCar[\"owner\"] = \"Ali\"\n",
    "\n",
    "newCar.update({\"headlights\":False})\n",
    "print(newCar)"
   ]
  },
  {
   "cell_type": "markdown",
   "id": "85ebe6d6",
   "metadata": {},
   "source": [
    "### Removing Items from Dictionary"
   ]
  },
  {
   "cell_type": "code",
   "execution_count": 81,
   "id": "1fd4dca0",
   "metadata": {},
   "outputs": [],
   "source": [
    "# newCar.pop(\"headlights\")\n",
    "# remove the last item from dictionary\n",
    "newCar.popitem()\n",
    "\n",
    "\n",
    "# removes all items from dictionary\n",
    "newPhone.clear()"
   ]
  },
  {
   "cell_type": "markdown",
   "id": "be6a8f37",
   "metadata": {},
   "source": [
    "### Looping Dictionaries"
   ]
  },
  {
   "cell_type": "code",
   "execution_count": 89,
   "id": "61d9c0ff",
   "metadata": {},
   "outputs": [
    {
     "name": "stdout",
     "output_type": "stream",
     "text": [
      "All keys : \n",
      "brand name airBags camera price colors owner \n",
      "KIA Cultus False False 5M ['blue', 'red', 'white', 'yellow'] Ali \n",
      "Key value pairs \n",
      "brand : KIA\n",
      "name : Cultus\n",
      "airBags : False\n",
      "camera : False\n",
      "price : 5M\n",
      "colors : ['blue', 'red', 'white', 'yellow']\n",
      "owner : Ali\n"
     ]
    }
   ],
   "source": [
    "# key , values in dictionaries\n",
    "print(\"All keys : \")\n",
    "for keys in newCar:\n",
    "    print(keys , end=\" \")\n",
    "print()\n",
    "\n",
    "for value in newCar:\n",
    "    print(newCar[value], end =\" \")\n",
    "\n",
    "print(\"\\nKey value pairs \")\n",
    "for key,values in newCar.items():\n",
    "    print(key , \":\", values)\n"
   ]
  },
  {
   "cell_type": "markdown",
   "id": "2bca1cf3",
   "metadata": {},
   "source": [
    "### Copy Dictionaries\n",
    "\n"
   ]
  },
  {
   "cell_type": "code",
   "execution_count": 96,
   "id": "a03671e9",
   "metadata": {},
   "outputs": [
    {
     "name": "stdout",
     "output_type": "stream",
     "text": [
      "{'brand': 'KIA', 'name': 'Cultus', 'airBags': False, 'camera': False, 'price': '5M', 'colors': ['blue', 'red', 'white', 'yellow'], 'owner': 'Ali'}\n"
     ]
    }
   ],
   "source": [
    "newCarr = dict(newCar)\n",
    "#print(newCarr)\n",
    "\n",
    "otherCar = newCarr.copy()\n",
    "print(otherCar)"
   ]
  },
  {
   "cell_type": "markdown",
   "id": "f09913a3",
   "metadata": {},
   "source": [
    "#### Creating a dictionary conataining the cube of numbers"
   ]
  },
  {
   "cell_type": "code",
   "execution_count": 1,
   "id": "6edfea1b",
   "metadata": {},
   "outputs": [
    {
     "name": "stdout",
     "output_type": "stream",
     "text": [
      "{1: 1, 2: 8, 3: 27, 4: 64, 5: 125}\n"
     ]
    }
   ],
   "source": [
    "cubes = dict()\n",
    "for i in range(1,6):\n",
    "    cubes[i] = i**3\n",
    "print(cubes)"
   ]
  },
  {
   "cell_type": "markdown",
   "id": "3322a0cd",
   "metadata": {},
   "source": [
    "#### Map two lists into a Dictionary"
   ]
  },
  {
   "cell_type": "code",
   "execution_count": 4,
   "id": "1a26fbb2",
   "metadata": {},
   "outputs": [
    {
     "name": "stdout",
     "output_type": "stream",
     "text": [
      "{'pen': 20, 'cufflinks': 49, 'bowls': 100, 'watch': 200}\n"
     ]
    }
   ],
   "source": [
    "items = [\"pen\",\"cufflinks\",\"bowls\",\"watch\"]\n",
    "price = [20, 49 , 100 , 200]\n",
    "\n",
    "catalog = dict()\n",
    "for i in range(len(items)):\n",
    "    catalog[items[i]] = price[i]\n",
    "    \n",
    "# above work can also be done using built in zip function\n",
    "    \n",
    "print(catalog)"
   ]
  },
  {
   "cell_type": "markdown",
   "id": "9cf265a7",
   "metadata": {},
   "source": [
    "#### Combine values of common keys of two dictionaries\n"
   ]
  },
  {
   "cell_type": "code",
   "execution_count": 48,
   "id": "cc77b014",
   "metadata": {},
   "outputs": [
    {
     "name": "stdout",
     "output_type": "stream",
     "text": [
      "['a', 'b', 'c']\n",
      "{'a': 9, 'b': 70, 'c': 19}\n"
     ]
    }
   ],
   "source": [
    "nums1 = {\"a\":3, \"b\":10, \"c\" : 7 }\n",
    "nums2 = {\"a\":6, \"b\":60, \"c\" : 12, \"d\":8 }\n",
    "\n",
    "keys1 = []\n",
    "keys2 = []\n",
    "\n",
    "# getting all the keys of two lists \n",
    "for i in nums1:\n",
    "    keys1.append(i)\n",
    "for i in nums2:\n",
    "    keys2.append(i)\n",
    "    \n",
    "# factoring out common keys in both lists\n",
    "commonItems = []\n",
    "for i in keys1:\n",
    "    if i in keys2:\n",
    "        commonItems.append(i)\n",
    "        \n",
    "print(commonItems)   \n",
    "\n",
    "# adding the keys\n",
    "for i in commonItems:\n",
    "    nums1[i] += nums2[i]\n",
    "    \n",
    "\n",
    "print(nums1)"
   ]
  },
  {
   "cell_type": "markdown",
   "id": "e3535e5e",
   "metadata": {},
   "source": [
    "#### Count the no. of characters "
   ]
  },
  {
   "cell_type": "code",
   "execution_count": 52,
   "id": "d0851dda",
   "metadata": {},
   "outputs": [
    {
     "name": "stdout",
     "output_type": "stream",
     "text": [
      "{'H': 1, 'e': 1, 'l': 3, 'o': 2, ' ': 1, 'W': 1, 'r': 1, 'd': 1}\n"
     ]
    }
   ],
   "source": [
    "str1 = 'Hello World' \n",
    "my_dict = {}\n",
    "for letter in str1:\n",
    "    # dictionary.get(keyname, value)\n",
    "    my_dict[letter] = my_dict.get(letter, 0) + 1\n",
    "print(my_dict)"
   ]
  },
  {
   "cell_type": "markdown",
   "id": "235c4a58",
   "metadata": {},
   "source": [
    "# <center> Object Oriented Programming"
   ]
  },
  {
   "cell_type": "markdown",
   "id": "a55c5979",
   "metadata": {},
   "source": [
    "## Creating a Class "
   ]
  },
  {
   "cell_type": "code",
   "execution_count": 16,
   "id": "fa36119a",
   "metadata": {},
   "outputs": [],
   "source": [
    "import csv\n",
    "\n",
    "class Item:\n",
    "    # global variable : same for all objects of Item class\n",
    "    disc_rate = 0.2\n",
    "    all = []\n",
    "    def __init__(self,name,price,qty):\n",
    "        # applying validations on data\n",
    "        assert price >= 0 , print(f\"price {price} is Invalid\")\n",
    "        assert qty >= 0, print(f\"Quantity {qty} is Invalid\")\n",
    "        \n",
    "        # assign attributes\n",
    "        self.name = name\n",
    "        self.price = price\n",
    "        self.qty = qty\n",
    "        \n",
    "        # actions to perform when an object is created\n",
    "        Item.all.append(self)\n",
    "        \n",
    "    \n",
    "    def calculatePrice(self):\n",
    "        return self.price * self.qty\n",
    "    \n",
    "    def priceAfterDisc(self):\n",
    "        # price of single item after discount\n",
    "        discRatePrice = self.price * self.disc_rate # accessing class variable\n",
    "        priceAfter = self.price - discRatePrice\n",
    "        return priceAfter\n",
    "    \n",
    "    @classmethod\n",
    "    def instantiateFromCSV(cls):\n",
    "        with open(\"items.csv\",\"r\") as f:\n",
    "            # reading CSV as Dictionary\n",
    "            reader = csv.DictReader(f)\n",
    "            # converting dictionary to list\n",
    "            items = list(reader)\n",
    "            \n",
    "            for item in items:\n",
    "                Item(\n",
    "                    name = item.get(\"name\"),\n",
    "                    price = float(item.get(\"price\")),\n",
    "                    qty = int(item.get(\"qty\"))                    \n",
    "                )\n",
    "                \n",
    "                \n",
    "    @staticmethod\n",
    "    def is_integer(num):\n",
    "        if isinstance(num,float):\n",
    "            return num.is_integer()\n",
    "        elif isinstance(num,int):\n",
    "            return true\n",
    "        else:\n",
    "            return false\n",
    "        \n",
    "            \n"
   ]
  },
  {
   "cell_type": "markdown",
   "id": "a8461a95",
   "metadata": {},
   "source": [
    "## Creating Instances/Objects of a Class"
   ]
  },
  {
   "cell_type": "code",
   "execution_count": 5,
   "id": "550477a6",
   "metadata": {},
   "outputs": [
    {
     "name": "stdout",
     "output_type": "stream",
     "text": [
      "<class '__main__.Item'>\n",
      "Pen\n",
      "20\n",
      "100\n",
      "{'name': 'Pen', 'price': 20, 'qty': 5}\n",
      "16.0\n"
     ]
    }
   ],
   "source": [
    "pen = Item(\"Pen\",20,5)\n",
    "\n",
    "print(type(pen)) # variable pen is of Item datatype\n",
    "\n",
    "# accessing data members of pen obj.\n",
    "print(pen.name)\n",
    "print(pen.price)\n",
    "\n",
    "\n",
    "print(pen.calculatePrice())\n",
    "\n",
    "# magic method to see all attributes of a class\n",
    "print(pen.__dict__)\n",
    "\n",
    "print(pen.priceAfterDisc())"
   ]
  },
  {
   "cell_type": "markdown",
   "id": "ba671da6",
   "metadata": {},
   "source": [
    "### Changing value of a global variable for certain object"
   ]
  },
  {
   "cell_type": "code",
   "execution_count": 33,
   "id": "d3cc0d32",
   "metadata": {},
   "outputs": [
    {
     "name": "stdout",
     "output_type": "stream",
     "text": [
      "800\n",
      "280.0\n"
     ]
    }
   ],
   "source": [
    "mousePad = Item(\"MousePad\",400,2)\n",
    "\n",
    "mousePad.disc_rate = 0.3\n",
    "\n",
    "\n",
    "print(mousePad.calculatePrice()) # total price\n",
    "print(mousePad.priceAfterDisc()) # price of single item after discount\n"
   ]
  },
  {
   "cell_type": "markdown",
   "id": "e01b4e79",
   "metadata": {},
   "source": [
    "### Accessing all the instances"
   ]
  },
  {
   "cell_type": "code",
   "execution_count": 35,
   "id": "f60f300c",
   "metadata": {},
   "outputs": [
    {
     "name": "stdout",
     "output_type": "stream",
     "text": [
      "Pen\n",
      "MousePad\n"
     ]
    }
   ],
   "source": [
    "for item in Item.all:\n",
    "    print(item.name)"
   ]
  },
  {
   "cell_type": "markdown",
   "id": "09fac381",
   "metadata": {},
   "source": [
    "## Class Reference Vs. Object Reference (Decorators) "
   ]
  },
  {
   "cell_type": "code",
   "execution_count": 13,
   "id": "894b930d",
   "metadata": {},
   "outputs": [
    {
     "name": "stdout",
     "output_type": "stream",
     "text": [
      "Bag\n",
      "Laptop\n",
      "Books\n",
      "Lamp\n",
      "Watch\n"
     ]
    }
   ],
   "source": [
    "# instantiating from CSV\n",
    "# class reference is used here ..\n",
    "Item.instantiateFromCSV()\n",
    "\n",
    "for item in Item.all:\n",
    "    print(item.name)\n"
   ]
  },
  {
   "cell_type": "code",
   "execution_count": null,
   "id": "9c83a7d5",
   "metadata": {},
   "outputs": [],
   "source": []
  }
 ],
 "metadata": {
  "kernelspec": {
   "display_name": "Python 3 (ipykernel)",
   "language": "python",
   "name": "python3"
  },
  "language_info": {
   "codemirror_mode": {
    "name": "ipython",
    "version": 3
   },
   "file_extension": ".py",
   "mimetype": "text/x-python",
   "name": "python",
   "nbconvert_exporter": "python",
   "pygments_lexer": "ipython3",
   "version": "3.9.12"
  }
 },
 "nbformat": 4,
 "nbformat_minor": 5
}
