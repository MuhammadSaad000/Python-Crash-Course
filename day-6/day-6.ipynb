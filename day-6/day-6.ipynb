{
 "cells": [
  {
   "cell_type": "markdown",
   "id": "10718177",
   "metadata": {},
   "source": [
    "# <center>Day-6 "
   ]
  },
  {
   "cell_type": "markdown",
   "id": "5118a25e",
   "metadata": {},
   "source": [
    "# Lambda Functions"
   ]
  },
  {
   "cell_type": "code",
   "execution_count": 45,
   "id": "c553d804",
   "metadata": {},
   "outputs": [],
   "source": [
    "# lambda is a keyword used for creating anonymous functions. \n",
    "# Anonymous functions are functions that are defined without a name, \n",
    "# unlike regular functions defined using the def keyword.\n",
    "# Syntax \n",
    "# lambda arguments: expression (expression = what you want to return)"
   ]
  },
  {
   "cell_type": "code",
   "execution_count": 1,
   "id": "bb79a836",
   "metadata": {},
   "outputs": [
    {
     "name": "stdout",
     "output_type": "stream",
     "text": [
      "Hello World using Lambda Function \n",
      "9\n",
      "-1\n",
      "20\n",
      "0.8\n"
     ]
    }
   ],
   "source": [
    "hello = lambda : print(\"Hello World using Lambda Function \")\n",
    "hello()\n",
    "\n",
    "add = lambda x,y : x + y\n",
    "subt = lambda x,y : x - y\n",
    "mul = lambda x,y : x * y\n",
    "div = lambda x,y : x / y\n",
    "\n",
    "print(add(4,5))\n",
    "print(subt(4,5))\n",
    "print(mul(4,5))\n",
    "print(div(4,5))\n",
    "\n"
   ]
  },
  {
   "cell_type": "code",
   "execution_count": 3,
   "id": "08a13b6f",
   "metadata": {},
   "outputs": [
    {
     "name": "stdout",
     "output_type": "stream",
     "text": [
      "16\n"
     ]
    },
    {
     "data": {
      "text/plain": [
       "6"
      ]
     },
     "execution_count": 3,
     "metadata": {},
     "output_type": "execute_result"
    }
   ],
   "source": [
    "sqr = lambda x : x**2\n",
    "print(sqr(4))\n",
    "\n",
    "# The power of lambda is better shown when you use \n",
    "# them as an anonymous function inside another function.\n",
    "\n",
    "def fun(n):\n",
    "    return lambda a : a * n\n",
    "\n",
    "doubler = fun(2)\n",
    "doubler(3)"
   ]
  },
  {
   "cell_type": "code",
   "execution_count": 8,
   "id": "3b430558",
   "metadata": {},
   "outputs": [
    {
     "name": "stdout",
     "output_type": "stream",
     "text": [
      "[{'name': 'Ali', 'age': 25}, {'name': 'Hashim', 'age': 20}, {'name': 'Owais', 'age': 30}]\n"
     ]
    }
   ],
   "source": [
    "students = [\n",
    "    {'name': 'Ali', 'age': 25},\n",
    "    {'name': 'Hashim', 'age': 20},\n",
    "    {'name': 'Owais', 'age': 30}\n",
    "]\n",
    "\n",
    "x = lambda x : print(x)\n",
    "x(students)\n"
   ]
  },
  {
   "cell_type": "code",
   "execution_count": 7,
   "id": "db526e56",
   "metadata": {},
   "outputs": [
    {
     "name": "stdout",
     "output_type": "stream",
     "text": [
      "[{'name': 'Owais', 'age': 30}, {'name': 'Ali', 'age': 25}, {'name': 'Hashim', 'age': 20}]\n"
     ]
    }
   ],
   "source": [
    "students = [\n",
    "    {'name': 'Ali', 'age': 25},\n",
    "    {'name': 'Hashim', 'age': 20},\n",
    "    {'name': 'Owais', 'age': 30}\n",
    "]\n",
    "\n",
    "# Sort the list by age using a lambda function\n",
    "students_sorted = sorted(students, key=lambda x: x['age'], reverse= True)\n",
    "\n",
    "# Print the sorted list\n",
    "print(students_sorted)"
   ]
  },
  {
   "cell_type": "markdown",
   "id": "545bdecc",
   "metadata": {},
   "source": [
    "# Random Module In Python"
   ]
  },
  {
   "cell_type": "code",
   "execution_count": 8,
   "id": "e1e086e1",
   "metadata": {},
   "outputs": [
    {
     "name": "stdout",
     "output_type": "stream",
     "text": [
      "0.4193037333526014\n",
      "8.504456847263175\n",
      "9\n"
     ]
    }
   ],
   "source": [
    "import random\n",
    "\n",
    "# generate a random float number bw 0 and 1\n",
    "a = random.random()\n",
    "print(a)\n",
    "\n",
    "# generate a random float number bw a given range\n",
    "a = random.uniform(1,29)\n",
    "print(a)\n",
    "\n",
    "# generate random integer \n",
    "a = random.randint(1,10)\n",
    "print(a)"
   ]
  },
  {
   "cell_type": "code",
   "execution_count": 36,
   "id": "9e3f48f6",
   "metadata": {},
   "outputs": [
    {
     "name": "stdout",
     "output_type": "stream",
     "text": [
      "['d', 'b', 'a']\n",
      "['a', 'a']\n",
      "['a', 'e', 'c', 'b', 'd']\n"
     ]
    }
   ],
   "source": [
    "# list of characters \n",
    "myList = list(\"abcde\")\n",
    "\n",
    "\n",
    "# use below syntax to create a list that contains single string \"abcde\"\n",
    "# myList = list([\"abcde\"])\n",
    "\n",
    "\n",
    "#choosing single random item from list \n",
    "a = random.choice(myList)\n",
    "\n",
    "\n",
    "# choose unique 3 items randomly from list\n",
    "a = random.sample(myList, 3)\n",
    "print(a)\n",
    "\n",
    "# pick elements multiple times\n",
    "a = random.choices(myList , k=2)\n",
    "print(a)\n",
    "\n",
    "# randomly shuffle the elements of list\n",
    "random.shuffle(myList)\n",
    "print(myList)"
   ]
  },
  {
   "cell_type": "markdown",
   "id": "2e0734a8",
   "metadata": {},
   "source": [
    "### random.seed()"
   ]
  },
  {
   "cell_type": "code",
   "execution_count": 48,
   "id": "5540dc71",
   "metadata": {},
   "outputs": [
    {
     "name": "stdout",
     "output_type": "stream",
     "text": [
      "1\n",
      "2\n",
      "1\n",
      "2\n"
     ]
    }
   ],
   "source": [
    "random.seed(2)\n",
    "print(random.randint(1,10))\n",
    "print(random.randint(1,10))\n",
    "\n",
    "# produce same output again and again as random number generator is initialized\n",
    "random.seed(2)\n",
    "print(random.randint(1,10))\n",
    "print(random.randint(1,10))\n"
   ]
  },
  {
   "cell_type": "markdown",
   "id": "8d9607dc",
   "metadata": {},
   "source": [
    "# `*args` and `**Kwargs`"
   ]
  },
  {
   "cell_type": "code",
   "execution_count": 73,
   "id": "7aa6fb7d",
   "metadata": {},
   "outputs": [],
   "source": [
    "# *args allows you to pass an arbitrary number of non-keyword arguments to a function (passed as a tuple)\n",
    "# Non-keyword arguments are arguments that are passed to a function without explicitly specifying the parameter name\n",
    "\n",
    "\n",
    "# **kwargs allows you to pass an arbitrary number of keyword arguments to a function. \n",
    "# These arguments are collected into a dictionary, which can be accessed within the function using the kwargs variable"
   ]
  },
  {
   "cell_type": "code",
   "execution_count": 103,
   "id": "5e63eeb9",
   "metadata": {},
   "outputs": [
    {
     "name": "stdout",
     "output_type": "stream",
     "text": [
      "6\n",
      "22.2\n"
     ]
    }
   ],
   "source": [
    "def sum_numbers(*nums):\n",
    "    total = 0\n",
    "    for i in nums:\n",
    "        total += i\n",
    "        # print(i, type(i))\n",
    "    return total\n",
    "\n",
    "print(sum_numbers(1, 2, 3))  \n",
    "print(sum_numbers(4.2, 5, 6, 7)) # Output: 22\n"
   ]
  },
  {
   "cell_type": "code",
   "execution_count": 107,
   "id": "6a255f46",
   "metadata": {},
   "outputs": [
    {
     "name": "stdout",
     "output_type": "stream",
     "text": [
      "<class 'dict'>\n",
      "{'first_name': 'Saad', 'last_name': 'Ali', 'age': 20}\n"
     ]
    }
   ],
   "source": [
    "def create_dict(**kwargs):\n",
    "    my_dict = {}\n",
    "    for key, value in kwargs.items():\n",
    "        my_dict[key] = value\n",
    "    return my_dict\n",
    "\n",
    "x = create_dict(first_name='Saad', last_name='Ali', age=20)\n",
    "print(type(x))\n",
    "print(x)\n"
   ]
  },
  {
   "cell_type": "markdown",
   "id": "7462b979",
   "metadata": {},
   "source": [
    "#### Create an SQL Query with the help of Python Program using kWargs"
   ]
  },
  {
   "cell_type": "code",
   "execution_count": 110,
   "id": "ecc0b090",
   "metadata": {},
   "outputs": [
    {
     "name": "stdout",
     "output_type": "stream",
     "text": [
      "SELECT * FROM customers WHERE fName = 'Bob' AND lName = 'Woolmer' AND age = '20'\n"
     ]
    }
   ],
   "source": [
    "def create_sql_query(table_name, **kwargs):\n",
    "    query = f\"SELECT * FROM {table_name}\"\n",
    "    if kwargs:\n",
    "        query += \" WHERE \"\n",
    "        conditions = []\n",
    "        for column, value in kwargs.items():\n",
    "            condition = f\"{column} = '{value}'\"\n",
    "            conditions.append(condition)\n",
    "        query += \" AND \".join(conditions)\n",
    "    return query\n",
    "\n",
    "\n",
    "# create_sql_query(tableName, colName = \"value\")\n",
    "print(create_sql_query('customers', fName='Bob', lName = 'Woolmer', age='20'))\n"
   ]
  },
  {
   "cell_type": "markdown",
   "id": "c6768d10",
   "metadata": {},
   "source": [
    "# Decorators in Python"
   ]
  },
  {
   "cell_type": "code",
   "execution_count": 68,
   "id": "a7fc420b",
   "metadata": {},
   "outputs": [
    {
     "name": "stdout",
     "output_type": "stream",
     "text": [
      "Start of decorator function\n",
      "sayHi called\n",
      "End of decorator function\n"
     ]
    }
   ],
   "source": [
    "# decorator function takes one argument that is function to be decorated \n",
    "def decFunc(func):\n",
    "    def wrapper(): # function which is actually decorating the function\n",
    "        print(\"Start of decorator function\")\n",
    "        print(func())\n",
    "        print(\"End of decorator function\")\n",
    "    return wrapper\n",
    "    \n",
    "def sayHi():\n",
    "    return \"sayHi called\"\n",
    "\n",
    "# decorating function\n",
    "sayHi = decFunc(sayHi)\n",
    "sayHi()\n"
   ]
  },
  {
   "cell_type": "markdown",
   "id": "6f20b2f7",
   "metadata": {},
   "source": [
    "### If the function to be decorated is taking some argument"
   ]
  },
  {
   "cell_type": "code",
   "execution_count": 56,
   "id": "630a9a07",
   "metadata": {},
   "outputs": [],
   "source": [
    "import datetime\n",
    "\n",
    "def sayName(func):\n",
    "    def modifyFunc(*args, **kwargs):\n",
    "        print(\"Hey there Good Morning\")\n",
    "        func(*args, **kwargs)\n",
    "        now = datetime.datetime.now()\n",
    "        print(\"Its \", now , \" today\")\n",
    "    return modifyFunc"
   ]
  },
  {
   "cell_type": "markdown",
   "id": "f0d76d9c",
   "metadata": {},
   "source": [
    "### Calling Decorated Function"
   ]
  },
  {
   "cell_type": "code",
   "execution_count": 72,
   "id": "94c6ac14",
   "metadata": {},
   "outputs": [
    {
     "name": "stdout",
     "output_type": "stream",
     "text": [
      "Hey there Good Morning\n",
      "Saad\n",
      "Its  2023-04-21 22:59:46.717696  today\n"
     ]
    }
   ],
   "source": [
    "@sayName # means function below is decorated by sayName function\n",
    "def func(name):\n",
    "    print(name)\n",
    "\n",
    "# func = sayName(func) # how decorator works actually\n",
    "\n",
    "func(\"Saad\")\n"
   ]
  },
  {
   "cell_type": "markdown",
   "id": "cf1b495a",
   "metadata": {},
   "source": [
    "# Generators in Python\n"
   ]
  },
  {
   "cell_type": "code",
   "execution_count": 12,
   "id": "9774576a",
   "metadata": {},
   "outputs": [
    {
     "name": "stdout",
     "output_type": "stream",
     "text": [
      "Start....\n",
      "3\n",
      "2\n",
      "1\n"
     ]
    }
   ],
   "source": [
    "def countdown(num):\n",
    "    print(\"Start....\")\n",
    "    while num>0:\n",
    "        yield num\n",
    "        num -= 1\n",
    "        \n",
    "        \n",
    "cd = countdown(3)\n",
    "val = next(cd)\n",
    "print(val)\n",
    "\n",
    "print(next(cd))\n",
    "print(next(cd))\n",
    "#print(next(cd))\n"
   ]
  },
  {
   "cell_type": "code",
   "execution_count": 7,
   "id": "be067e4e",
   "metadata": {},
   "outputs": [],
   "source": [
    "# Generators are memory efficient"
   ]
  },
  {
   "cell_type": "code",
   "execution_count": 32,
   "id": "d06b3537",
   "metadata": {},
   "outputs": [
    {
     "name": "stdout",
     "output_type": "stream",
     "text": [
      "Size of function without generator : \n",
      "184\n",
      "Size of function with generator : \n",
      "112\n"
     ]
    }
   ],
   "source": [
    "import sys\n",
    "def firstNnums(n):\n",
    "    nums = []\n",
    "    num = 0\n",
    "    while (num < n):\n",
    "        nums.append(num)\n",
    "        num += 1\n",
    "    return nums\n",
    "\n",
    "# firstNGen is memory efficient as it does not make a list of nums \n",
    "def firstNGen(n):\n",
    "    num = 0\n",
    "    while num < n:\n",
    "        yield num\n",
    "        print(num)\n",
    "        num += 1\n",
    "\n",
    "\n",
    "print(\"Size of function without generator : \")\n",
    "print(sys.getsizeof((firstNnums(10))))\n",
    "print(\"Size of function with generator : \")\n",
    "print(sys.getsizeof((firstNGen(10))))\n",
    "\n"
   ]
  },
  {
   "cell_type": "code",
   "execution_count": 39,
   "id": "5e264fdf",
   "metadata": {},
   "outputs": [
    {
     "name": "stdout",
     "output_type": "stream",
     "text": [
      "0\n",
      "1\n",
      "1\n",
      "2\n",
      "3\n",
      "5\n",
      "8\n",
      "<generator object <genexpr> at 0x0000015CACC81CF0>\n",
      "0 2 4 6 8 "
     ]
    }
   ],
   "source": [
    "def fibonacci(limit):\n",
    "    a,b = 0,1\n",
    "    while a < limit:\n",
    "        yield a\n",
    "        a,b = b, a+b\n",
    "        \n",
    "fib = fibonacci(10)\n",
    "for i in fib:\n",
    "    print(i)\n",
    "    \n",
    "    \n",
    "myGen = (i for i in range(10) if i%2==0)\n",
    "print(myGen)\n",
    "for i in myGen:\n",
    "    print(i, end=\" \")"
   ]
  },
  {
   "cell_type": "code",
   "execution_count": null,
   "id": "fe0dba0b",
   "metadata": {},
   "outputs": [],
   "source": []
  }
 ],
 "metadata": {
  "kernelspec": {
   "display_name": "Python 3 (ipykernel)",
   "language": "python",
   "name": "python3"
  },
  "language_info": {
   "codemirror_mode": {
    "name": "ipython",
    "version": 3
   },
   "file_extension": ".py",
   "mimetype": "text/x-python",
   "name": "python",
   "nbconvert_exporter": "python",
   "pygments_lexer": "ipython3",
   "version": "3.9.12"
  }
 },
 "nbformat": 4,
 "nbformat_minor": 5
}
