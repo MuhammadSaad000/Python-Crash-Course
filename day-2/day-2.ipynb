{
 "cells": [
  {
   "cell_type": "markdown",
   "id": "a7c9f3aa",
   "metadata": {},
   "source": [
    "\n",
    "#  <center>Day-2 Python <center>"
   ]
  },
  {
   "cell_type": "markdown",
   "id": "c297c3c8",
   "metadata": {},
   "source": [
    "## Loops in Python "
   ]
  },
  {
   "cell_type": "markdown",
   "id": "e66299e0",
   "metadata": {},
   "source": [
    "### for Loop"
   ]
  },
  {
   "cell_type": "code",
   "execution_count": 39,
   "id": "5e453e79",
   "metadata": {},
   "outputs": [
    {
     "name": "stdout",
     "output_type": "stream",
     "text": [
      "Multiplication table of 5\n",
      "5\n",
      "10\n",
      "15\n",
      "20\n",
      "25\n",
      "Numbers which are divisible both by 3 and 7\n",
      "0\n",
      "21\n",
      "42\n",
      "63\n",
      "84\n"
     ]
    }
   ],
   "source": [
    "# print the multiplication table of 5\n",
    "# range function in python start value from 0 if not specified\n",
    "\n",
    "print(\"Multiplication table of 5\")\n",
    "for i in range(5):\n",
    "    print((i + 1) * 5)\n",
    "    \n",
    "print(\"Numbers which are divisible both by 3 and 7\")\n",
    "for i in range(0,100):\n",
    "    if (i % 3 == 0 and i % 7 == 0):\n",
    "        print(i)\n"
   ]
  },
  {
   "cell_type": "code",
   "execution_count": 70,
   "id": "0448abd4",
   "metadata": {},
   "outputs": [
    {
     "name": "stdout",
     "output_type": "stream",
     "text": [
      "5\n",
      "20\n",
      "35\n",
      "50\n",
      "65\n",
      "80\n",
      "95\n"
     ]
    }
   ],
   "source": [
    "# increment looping variable by 3\n",
    "for i in range(2,100,3): # start from 2 and iterate till 99 (inclusive)\n",
    "    if(i % 5 == 0):\n",
    "        print(i)"
   ]
  },
  {
   "cell_type": "code",
   "execution_count": 91,
   "id": "c6ff027a",
   "metadata": {},
   "outputs": [
    {
     "name": "stdout",
     "output_type": "stream",
     "text": [
      "2\t4\t6\t8\t\n",
      "4\t8\t12\t16\t\n",
      "6\t12\t18\t24\t\n",
      "8\t16\t24\t32\t\n",
      "10\t20\t30\t40\t\n",
      "12\t24\t36\t48\t\n",
      "14\t28\t42\t56\t\n",
      "16\t32\t48\t64\t\n",
      "18\t36\t54\t72\t\n"
     ]
    }
   ],
   "source": [
    "# Nested For loop\n",
    "# Print table of 2,4,6,8 using nested for loops\n",
    "for i in range(1,10):\n",
    "    for j in range(2,10,2):\n",
    "        print(i * j, end=\"\\t\")\n",
    "    print()"
   ]
  },
  {
   "cell_type": "code",
   "execution_count": 99,
   "id": "f65aa97a",
   "metadata": {},
   "outputs": [
    {
     "name": "stdout",
     "output_type": "stream",
     "text": [
      "*\n",
      "**\n",
      "***\n",
      "****\n",
      "*****\n"
     ]
    }
   ],
   "source": [
    "# pattern triangle\n",
    "for i in range(0,5):\n",
    "    for j in range(0,5):\n",
    "        if(i>=j):\n",
    "            print('*', end=\"\")\n",
    "    print()"
   ]
  },
  {
   "cell_type": "markdown",
   "id": "4b9d2076",
   "metadata": {},
   "source": [
    "### while loop"
   ]
  },
  {
   "cell_type": "code",
   "execution_count": 64,
   "id": "1b6e1240",
   "metadata": {},
   "outputs": [
    {
     "name": "stdout",
     "output_type": "stream",
     "text": [
      "Multiplication Table of 2 using while loop\n",
      "0\n",
      "2\n",
      "4\n",
      "6\n",
      "8\n",
      "10\n",
      "12\n",
      "14\n",
      "16\n",
      "18\n",
      "0\n",
      "3\n",
      "6\n",
      "9\n",
      "12\n",
      "18\n"
     ]
    }
   ],
   "source": [
    "print(\"Multiplication Table of 2 using while loop\")\n",
    "i = 0 \n",
    "while(i < 20 and i % 2 == 0):\n",
    "    print(i)\n",
    "    i = i + 2\n",
    "\n",
    "# continue statement will skip the loop body execution for the current value of i and will move to next iteration\n",
    "i = 0\n",
    "while(i < 20):\n",
    "    if (i % 3 == 0):\n",
    "        if (i == 15):\n",
    "            i = i + 1\n",
    "            continue\n",
    "        print(i)\n",
    "    i = i + 1\n",
    "    "
   ]
  },
  {
   "cell_type": "markdown",
   "id": "b2584d8f",
   "metadata": {},
   "source": [
    "## Functions\n"
   ]
  },
  {
   "cell_type": "code",
   "execution_count": 13,
   "id": "8db2733a",
   "metadata": {},
   "outputs": [
    {
     "name": "stdout",
     "output_type": "stream",
     "text": [
      "Hello World from function sayHello()\n",
      "Hurray, we won the match\n"
     ]
    }
   ],
   "source": [
    "# functions without return value and parameters\n",
    "def sayHello():\n",
    "    print(\"Hello World from function sayHello()\")\n",
    "    \n",
    "def sayHurray():\n",
    "    print(\"Hurray, we won the match\")\n",
    "\n",
    "sayHello()\n",
    "sayHurray()"
   ]
  },
  {
   "cell_type": "markdown",
   "id": "29ab2b9d",
   "metadata": {},
   "source": [
    "### Functions with parameters and return value"
   ]
  },
  {
   "cell_type": "code",
   "execution_count": 121,
   "id": "52ecdbd3",
   "metadata": {},
   "outputs": [
    {
     "name": "stdout",
     "output_type": "stream",
     "text": [
      "Hey there, I am Ali Raza\n",
      "32\n"
     ]
    }
   ],
   "source": [
    "def sayHello(firstName,lastName):\n",
    "    return \"Hey there, I am \" + firstName + \" \" + lastName\n",
    "\n",
    "\n",
    "#sayHello() will give error now as python doesnt support function overloading\n",
    "\n",
    "# find max of three numbers \n",
    "def findMax(a,b,c):\n",
    "    if (a > b and a > c):\n",
    "        return a\n",
    "    elif (b > a and b > c):\n",
    "        return b\n",
    "    else:\n",
    "        return c\n",
    "    \n",
    "    \n",
    "    \n",
    "print(sayHello(\"Ali\", \"Raza\"))\n",
    "print(findMax(21,32,11))\n"
   ]
  },
  {
   "cell_type": "markdown",
   "id": "ddad3687",
   "metadata": {},
   "source": [
    "### Return multiple Values from a function"
   ]
  },
  {
   "cell_type": "code",
   "execution_count": 22,
   "id": "c2a7c605",
   "metadata": {},
   "outputs": [
    {
     "data": {
      "text/plain": [
       "['Ali', 'Hashir', 'Waqas']"
      ]
     },
     "execution_count": 22,
     "metadata": {},
     "output_type": "execute_result"
    }
   ],
   "source": [
    "# functions in python can return lists, dictionaries, sets etc..\n",
    "def myFrnds():\n",
    "    return [\"Ali\", \"Hashir\",\"Waqas\"]\n",
    "\n",
    "\n",
    "myFrnds()"
   ]
  },
  {
   "cell_type": "markdown",
   "id": "5f122f0d",
   "metadata": {},
   "source": [
    "### When no of args is not known"
   ]
  },
  {
   "cell_type": "code",
   "execution_count": 125,
   "id": "b7388d50",
   "metadata": {},
   "outputs": [
    {
     "name": "stdout",
     "output_type": "stream",
     "text": [
      "HACK"
     ]
    }
   ],
   "source": [
    "def myBestie(*args):\n",
    "    for i in range (len(args)):\n",
    "        print(args[i],end=\"\")\n",
    "        \n",
    "\n",
    "myBestie(\"H\",\"A\",\"C\",\"K\")"
   ]
  },
  {
   "cell_type": "markdown",
   "id": "bad8aa25",
   "metadata": {},
   "source": [
    "## Lists in Python "
   ]
  },
  {
   "cell_type": "code",
   "execution_count": 3,
   "id": "8d9d7863",
   "metadata": {},
   "outputs": [
    {
     "name": "stdout",
     "output_type": "stream",
     "text": [
      "['Maclaren', 'Ferrari', 'Alto', 'Nissan', 'Kia Sorento']\n",
      "<class 'list'>\n",
      "5\n",
      "[1, 'abcde', True, [1, 2, 3, 4]]\n"
     ]
    }
   ],
   "source": [
    "# arrays in python are commonly known as lists\n",
    "cars = [\"Maclaren\",\"Ferrari\",\"Buggatti\",\"Nissan\",\"Kia Sorento\"]\n",
    "\n",
    "# changing third value of array\n",
    "cars[2] = \"Alto\"\n",
    "\n",
    "print(cars)\n",
    "print(type(cars))\n",
    "print(len(cars))\n",
    "\n",
    "# A list can contain different data types\n",
    "# we can also use the default constructor of list to create a new list\n",
    "arr = list([1 , \"abcde\", True, [1,2,3,4]])\n",
    "print(arr)\n"
   ]
  },
  {
   "cell_type": "code",
   "execution_count": 4,
   "id": "c2e3cac2",
   "metadata": {},
   "outputs": [
    {
     "name": "stdout",
     "output_type": "stream",
     "text": [
      "['Nissan']\n",
      "[]\n",
      "['Ferrari', 'Alto', 'Nissan']\n"
     ]
    }
   ],
   "source": [
    "# slicing can also be done in lists/ arrays \n",
    "\n",
    "cars[2:5]\n",
    "print(cars[-2:4])\n",
    "print(cars[-1:-4])\n",
    "print(cars[-4:-1])\n"
   ]
  },
  {
   "cell_type": "markdown",
   "id": "670e0e76",
   "metadata": {},
   "source": [
    "### Modifying lists"
   ]
  },
  {
   "cell_type": "code",
   "execution_count": 5,
   "id": "f5e360c4",
   "metadata": {},
   "outputs": [
    {
     "name": "stdout",
     "output_type": "stream",
     "text": [
      "['Maclaren', 'WagonR', 'Coure', 'Nissan', 'Kia Sorento']\n",
      "['Maclaren', 'WagonR', 'Coure', 'Nissan', 'Kia Sorento', 'Vezel']\n",
      "['Maclaren', 'NWon', 'WagonR', 'Coure', 'Nissan', 'Kia Sorento', 'Vezel']\n",
      "['Maclaren', 'NWon', 'WagonR', 'Coure', 'Nissan', 'Kia Sorento', 'Vezel', 1, 'abcde', True, [1, 2, 3, 4]]\n"
     ]
    }
   ],
   "source": [
    "\n",
    "#modifying list using slicing\n",
    "cars[1:3] = [\"WagonR\",\"Coure\",]\n",
    "print(cars)\n",
    "\n",
    "cars.append(\"Vezel\") # append item to last of list\n",
    "print(cars)\n",
    "\n",
    "cars.insert(1,\"NWon\") # add item at position\n",
    "print(cars)\n",
    "\n",
    "# add list to other \n",
    "cars.extend(arr)\n",
    "print(cars)\n",
    "\n",
    "cars.remove(\"NWon\")\n",
    "\n",
    "# not delete the list but remove all of its items\n",
    "cars.clear()\n",
    "\n",
    "# delete item using single word \n",
    "del cars"
   ]
  },
  {
   "cell_type": "code",
   "execution_count": 7,
   "id": "69008d28",
   "metadata": {},
   "outputs": [
    {
     "name": "stdout",
     "output_type": "stream",
     "text": [
      "Using for loops and in \n",
      "50\n",
      "21\n",
      "40\n",
      "28\n",
      "Using for loop and range keyword\n",
      "50\n",
      "21\n",
      "40\n",
      "28\n"
     ]
    }
   ],
   "source": [
    "nums = [50,21,40,28]\n",
    "print(\"Using for loops and in \")\n",
    "for i in nums:\n",
    "    print(i)\n",
    "    \n",
    "    \n",
    "# referring to the indices of lists    \n",
    "print(\"Using for loop and range keyword\")\n",
    "for i in range(len(nums)):\n",
    "    print(nums[i])\n"
   ]
  },
  {
   "cell_type": "markdown",
   "id": "e940a1d5",
   "metadata": {},
   "source": [
    "### List Comprehension"
   ]
  },
  {
   "cell_type": "code",
   "execution_count": 12,
   "id": "6bb83798",
   "metadata": {},
   "outputs": [
    {
     "name": "stdout",
     "output_type": "stream",
     "text": [
      "Using list comprehension\n",
      "50\n",
      "21\n",
      "40\n",
      "28\n",
      "Multiple of 3 in nums\n",
      "21\n"
     ]
    },
    {
     "data": {
      "text/plain": [
       "[None]"
      ]
     },
     "execution_count": 12,
     "metadata": {},
     "output_type": "execute_result"
    }
   ],
   "source": [
    "print(\"Using list comprehension\")\n",
    "[print(x) for x in nums]\n",
    "\n",
    "# print only those numbers if they are multiple of 3\n",
    "print(\"Multiple of 3 in nums\")\n",
    "[print(x) for x in nums if x % 3 == 0]"
   ]
  },
  {
   "cell_type": "code",
   "execution_count": 17,
   "id": "cddcfef1",
   "metadata": {},
   "outputs": [
    {
     "name": "stdout",
     "output_type": "stream",
     "text": [
      "[0, 2, 4, 6, 8]\n",
      "All items set to 12 : \n"
     ]
    },
    {
     "data": {
      "text/plain": [
       "[12, 12, 12, 12, 12]"
      ]
     },
     "execution_count": 17,
     "metadata": {},
     "output_type": "execute_result"
    }
   ],
   "source": [
    "newlist = [x for x in range(0,10,2)]\n",
    "print(newlist)\n",
    "\n",
    "# set all in newlist to be 12\n",
    "print(\"All items set to 12 : \")\n",
    "[12 for x in newlist]\n",
    "\n"
   ]
  },
  {
   "cell_type": "markdown",
   "id": "91b46771",
   "metadata": {},
   "source": [
    "### Sort list"
   ]
  },
  {
   "cell_type": "code",
   "execution_count": 39,
   "id": "38ae6dee",
   "metadata": {},
   "outputs": [
    {
     "name": "stdout",
     "output_type": "stream",
     "text": [
      "Random list  [7, 2, 5, 2, 6, 7, 1, 5, 9, 9]\n",
      "list in ascending order :  [1, 2, 2, 5, 5, 6, 7, 7, 9, 9]\n",
      "list in descending order [9, 9, 7, 7, 6, 5, 5, 2, 2, 1]\n",
      "list in reverse :  [9, 9, 7, 7, 6, 5, 5, 2, 2, 1]\n"
     ]
    }
   ],
   "source": [
    "import random\n",
    "# importing the random module and populating array with random numbers\n",
    "newlist = [random.randint(1,10) for i in range(10)]\n",
    "print(\"Random list \" , newlist)\n",
    "\n",
    "# list method to sort the array\n",
    "newlist.sort()\n",
    "print(\"list in ascending order : \" , newlist)\n",
    "\n",
    "# sort in descending order\n",
    "newlist.sort(reverse=True)\n",
    "print(\"list in descending order\" , newlist)\n",
    "\n",
    "# reverse list\n",
    "print(\"list in reverse : \" , newlist)\n",
    "newlist.reverse()"
   ]
  },
  {
   "cell_type": "markdown",
   "id": "0cdbb99a",
   "metadata": {},
   "source": [
    "### Join Lists"
   ]
  },
  {
   "cell_type": "code",
   "execution_count": 53,
   "id": "04f2469c",
   "metadata": {},
   "outputs": [
    {
     "name": "stdout",
     "output_type": "stream",
     "text": [
      "[2, 3, 5, 7, 4, 5, 6, 9]\n",
      "[8, 15, 30, 63]\n"
     ]
    }
   ],
   "source": [
    "x = [2,3,5,7]\n",
    "y = [4,5,6,9]\n",
    "\n",
    "z = x + y\n",
    "print(z)\n",
    "\n",
    "z = []\n",
    "# multiply elements of two lists\n",
    "for i in range(0,len(x)):\n",
    "    z.append(x[i] * y[i])\n",
    "        \n",
    "print(z)"
   ]
  },
  {
   "cell_type": "code",
   "execution_count": null,
   "id": "d6a463f5",
   "metadata": {},
   "outputs": [],
   "source": []
  }
 ],
 "metadata": {
  "kernelspec": {
   "display_name": "Python 3 (ipykernel)",
   "language": "python",
   "name": "python3"
  },
  "language_info": {
   "codemirror_mode": {
    "name": "ipython",
    "version": 3
   },
   "file_extension": ".py",
   "mimetype": "text/x-python",
   "name": "python",
   "nbconvert_exporter": "python",
   "pygments_lexer": "ipython3",
   "version": "3.9.12"
  }
 },
 "nbformat": 4,
 "nbformat_minor": 5
}
