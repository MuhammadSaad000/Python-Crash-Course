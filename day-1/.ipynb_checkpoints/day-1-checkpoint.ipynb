{
 "cells": [
  {
   "cell_type": "markdown",
   "id": "7a19aa93",
   "metadata": {},
   "source": [
    "\n",
    "#  <center>Introduction to [PYTHON](\"https://www.python.org\")<center>"
   ]
  },
  {
   "cell_type": "code",
   "execution_count": 1,
   "id": "5b04d78e",
   "metadata": {},
   "outputs": [
    {
     "name": "stdout",
     "output_type": "stream",
     "text": [
      "Hello World\n"
     ]
    }
   ],
   "source": [
    "print(\"Hello World\")"
   ]
  },
  {
   "cell_type": "markdown",
   "id": "0ddb4bc6",
   "metadata": {},
   "source": [
    "## Variables in Python"
   ]
  },
  {
   "cell_type": "code",
   "execution_count": 6,
   "id": "e7d337ce",
   "metadata": {},
   "outputs": [
    {
     "name": "stdout",
     "output_type": "stream",
     "text": [
      "Addition :   29\n",
      "Subtraction :   11\n",
      "Multiplication :   180\n",
      "Division :   2.2222222222222223\n",
      "Exponential :   12157665459056928801\n",
      "Floor Division :   0\n",
      "Modulus :  2\n"
     ]
    }
   ],
   "source": [
    "a = 20 # no need to specify data types or let,var, const keyword before a variable name in python\n",
    "b = 9\n",
    "resAdd = a + b\n",
    "resSub = a - b\n",
    "resMul = a * b\n",
    "resDiv = a / b\n",
    "resPower = b ** a\n",
    "resFloorDiv = b // a\n",
    "resMod = a % b \n",
    "# use commas to concatenate two strings in python plus sign wont work \n",
    "print(\"Addition :  \", resAdd )\n",
    "print(\"Subtraction :  \", resSub )\n",
    "print(\"Multiplication :  \", resMul )\n",
    "print(\"Division :  \", resDiv )\n",
    "print(\"Exponential :  \", resPower )\n",
    "print(\"Floor Division :  \", resFloorDiv )\n",
    "print(\"Modulus : \", resMod )\n",
    "\n"
   ]
  },
  {
   "cell_type": "code",
   "execution_count": null,
   "id": "a01ab3eb",
   "metadata": {},
   "outputs": [],
   "source": []
  }
 ],
 "metadata": {
  "kernelspec": {
   "display_name": "Python 3 (ipykernel)",
   "language": "python",
   "name": "python3"
  },
  "language_info": {
   "codemirror_mode": {
    "name": "ipython",
    "version": 3
   },
   "file_extension": ".py",
   "mimetype": "text/x-python",
   "name": "python",
   "nbconvert_exporter": "python",
   "pygments_lexer": "ipython3",
   "version": "3.9.12"
  }
 },
 "nbformat": 4,
 "nbformat_minor": 5
}
